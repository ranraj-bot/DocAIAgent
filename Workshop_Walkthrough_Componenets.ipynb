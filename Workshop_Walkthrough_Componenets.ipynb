{
  "cells": [
    {
      "cell_type": "code",
      "execution_count": 1,
      "metadata": {
        "id": "W9V7bWKKKIqX"
      },
      "outputs": [],
      "source": [
        "import os\n",
        "from ocr_module import extract_text"
      ]
    },
    {
      "cell_type": "markdown",
      "metadata": {
        "id": "tbj_JfI9LBjX"
      },
      "source": [
        "## OCR - Optical Character Recognision\n",
        "#### Using: Google vision ocr \n",
        "##### google_vision requires credentials. Alternative: \"surya\"\n",
        "##### Open source options are very poor\n",
        "\n",
        "\n"
      ]
    },
    {
      "cell_type": "code",
      "execution_count": 2,
      "metadata": {
        "id": "GYsKwebkKIqZ",
        "outputId": "9e714e51-c0b6-46a6-9f1c-27a3bc5f0a1e"
      },
      "outputs": [
        {
          "name": "stdout",
          "output_type": "stream",
          "text": [
            "Initializing Google Vision Client...\n",
            "Google Vision Client Initialized.\n",
            "Calling Google Cloud Vision OCR (Attempt 1/3)...\n"
          ]
        },
        {
          "name": "stdout",
          "output_type": "stream",
          "text": [
            "Google Vision OCR generated 95 lines (paragraphs).\n",
            "Median line height: 37.00, Y-tolerance: 25.90\n",
            "\n",
            "\n",
            "\n",
            "\n",
            "Extracted Text:\n",
            "--------------------\n",
            "WHOLESALE\n",
            "Main Street Wholesale Meats INVOICE\n",
            "Farmingdale Meat Market\n",
            "FARMINGDALE 210 Main Street\n",
            "MARKET Farmingdale , NY 11735 Invoice No. Invoice Date Page\n",
            "MEAT ( 516 ) 249-8200 915378 08/07/24 PO Number 1\n",
            "1\n",
            "SOLD THE CHEQUIT\n",
            "9 WEST 57TH STREET SHIP THE CHEQUIT\n",
            "SUITE 4500 23 GRAND AVENUE\n",
            "NEW YORK , NY 10019 SHELTER ISLAND HGTS , NY 11965\n",
            "PHONE : ( 631 ) 749-0018 70 T\n",
            "FAX :\n",
            "PHONE :\n",
            "Route Stop\n",
            "NF Sales ID Customer ID Order No. 1415912 Order Date 08/06/24 Ship Via\n",
            "Terms\n",
            "VB CHEQUIT A14\n",
            "Item ID\n",
            "Qty Shipped Description Weight Price Per Total\n",
            "BFGR\n",
            "60ZFLTMGNCHN 10.00 LB USDA CHOICE GROUND BEEF 10.00 4.89 LB 48.90\n",
            "PK - LN - BNLS 32.00 EA 6OZ FILET MIGNON STEAK USDA CHOICE C / C 13.05 33.99 LB 443.57\n",
            "KIEL 2.00 EA LOIN OF PORK C / C BONELESS CRY - O 23.70 2.89 LB 68.49\n",
            "10.00 LB SMOKED KIELBASA 11.70 8.99 LB 105.18\n",
            "SAB FRNKS\n",
            "6.00 LB SABRETT 8-1 SKINLESS FRANKS 6.12 6.59 LB 40.33\n",
            "SWT IT\n",
            "10.00 LB SWEET ITALIAN SAUSAGE - M / S 10.00 3.59 LB 35.90\n",
            "3 BOXES\n",
            "Total Weight Sales Amt 742.37\n",
            "This sale is made pursuant to agreement made between Main Street Wholesale Meats and purchaser , that the purchaser will pay Main Street Wholesale Meats all costs and expenses , including attorney's fees , which are incurred in attempting to collect from purchaser the amount of the invoice by reason of non - payment when due ; said attorney's fees to be computed at 30 % of the amount due when claim is turned over to an attorney for collection . A credit service charge of one and one - half percent per month is payable on past due amounts . Surcharge is equal to an ANNUAL INTEREST CHARGE OF 18 % . Returns : Claims for short shipment or damaged product must be made within 48 hours . All returned checks are subject to a processing fee of $ 30 . Credit card payments are subject to a 3 % convenience fee . Prices are subject to change without notice . Misc Amt Freight 0.00\n",
            "7.00\n",
            "74.57 Sales Tax 0.00\n",
            "Total 749.37\n",
            "Amount Paid Balance Due 0.00 749.37\n",
            "RECEIVED IN GOOD ORDER\n",
            "X\n",
            "All Claims for Allowance Must be Made Immediately upon Receipt of Goods . T = Taxable Items\n",
            "CS CamScanner\n",
            "--------------------\n"
          ]
        }
      ],
      "source": [
        "image_path = \"temp_images/example1_s3.jpeg\"\n",
        "with open(image_path, \"rb\") as f:\n",
        "            img_bytes = f.read()\n",
        "extracted_text = extract_text(img_bytes, ocr_engine=\"google_vision\")\n",
        "print(\"\\n\\n\\n\")\n",
        "print(\"Extracted Text:\")\n",
        "print(\"-\"*20)\n",
        "print(extracted_text)\n",
        "print(\"-\"*20)"
      ]
    },
    {
      "cell_type": "code",
      "execution_count": null,
      "metadata": {
        "id": "pxT4_YkhKIqa"
      },
      "outputs": [],
      "source": []
    },
    {
      "cell_type": "markdown",
      "metadata": {
        "id": "yuUPYDB5Om5A"
      },
      "source": [
        "## Classifier\n",
        "##### Tool/ function to give more context to the Agent.\n",
        "##### Cheaper/Smaller Model"
      ]
    },
    {
      "cell_type": "code",
      "execution_count": 3,
      "metadata": {
        "id": "xh9A-Ge3KIqa"
      },
      "outputs": [],
      "source": [
        "from classifier import classify_and_suggest_fields"
      ]
    },
    {
      "cell_type": "code",
      "execution_count": 4,
      "metadata": {
        "id": "zJ-mMaupKIqb",
        "outputId": "f9d0f860-de2a-4db8-b324-4edcd306d56e"
      },
      "outputs": [
        {
          "name": "stdout",
          "output_type": "stream",
          "text": [
            "Sending classification prompt with model: classifier\n",
            "Using model: Qwen2.5-7B-Instruct\n"
          ]
        },
        {
          "name": "stdout",
          "output_type": "stream",
          "text": [
            "Received classification response from LLM\n",
            "Parsing classification response\n",
            "Parsed classification as JSON: type='invoice', fields=['buyer_address', 'buyer_name', 'buyer_vat_number', 'currency', 'invoice_amount', 'invoice_date', 'invoice_number', 'payment_due_date', 'po_number', 'seller_address', 'seller_email', 'seller_fax_number', 'seller_name', 'seller_phone', 'seller_vat_number', 'seller_website', 'shipping_date', 'shipto_address', 'shipto_name', 'subtotal', 'total_due_amount', 'total_tax', 'terms_and_conditions', 'credit_service_charge', 'surcharge', 'returns_policy', 'claim_policy', 'misc_fees']\n"
          ]
        }
      ],
      "source": [
        "classifier_result = classify_and_suggest_fields(extracted_text, img_bytes)"
      ]
    },
    {
      "cell_type": "code",
      "execution_count": 27,
      "metadata": {
        "id": "93_SYt5WKIqb",
        "outputId": "2b326a31-9bcc-4037-afec-7ec3709fbb93"
      },
      "outputs": [
        {
          "name": "stdout",
          "output_type": "stream",
          "text": [
            "invoice\n"
          ]
        }
      ],
      "source": [
        "print(classifier_result['doc_type'])"
      ]
    },
    {
      "cell_type": "markdown",
      "metadata": {
        "id": "GeEXjjXFO4D5"
      },
      "source": [
        "## Iteration 1\n",
        "####1. Extractor LLM: Qwen2.5 7B\n",
        "#####Decoder only LLM"
      ]
    },
    {
      "cell_type": "code",
      "execution_count": 4,
      "metadata": {
        "id": "UjECb_gtKIqb"
      },
      "outputs": [],
      "source": [
        "from llm_module import llm_call\n",
        "from utils.extractor_utils import create_extraction_prompt_messages_text, parse_extraction"
      ]
    },
    {
      "cell_type": "code",
      "execution_count": 6,
      "metadata": {
        "id": "cELQdVMyKIqc"
      },
      "outputs": [],
      "source": [
        "extracted_fields = [\"buyer_address\", \"buyer_name\", \"buyer_vat_number\", \"currency\", \"invoice_amount\", \"invoice_date\", \"invoice_number\", \"payment_due_date\", \"po_number\", \"seller_address\", \"seller_email\", \"seller_fax_number\", \"seller_name\", \"seller_phone\", \"seller_vat_number\", \"seller_website\", \"shipping_date\", \"shipto_address\", \"shipto_name\", \"subtotal\", \"total_due_amount\", \"total_tax\"]#TODO: change name"
      ]
    },
    {
      "cell_type": "code",
      "execution_count": 30,
      "metadata": {
        "id": "BsltdhEtKIqc",
        "outputId": "b5a41095-a357-4977-b3f3-7b5ee725f81a"
      },
      "outputs": [
        {
          "name": "stdout",
          "output_type": "stream",
          "text": [
            "Using model: Qwen2.5-7B-Instruct\n"
          ]
        },
        {
          "name": "stdout",
          "output_type": "stream",
          "text": [
            "Extraction Result:\n",
            "--------------------\n",
            "{'buyer_address': '9 WEST 57TH STREET SUITE 4500 23 GRAND AVENUE NEW YORK , NY 10019 SHELTER ISLAND HGTS , NY 11965', 'buyer_name': 'THE CHEQUIT', 'buyer_vat_number': '', 'currency': 'USD', 'invoice_amount': '749.37', 'invoice_date': '08/07/24', 'invoice_number': '915378', 'payment_due_date': '', 'po_number': '1', 'seller_address': 'FARMINGDALE 210 Main Street MARKET Farmingdale , NY 11735', 'seller_email': '', 'seller_fax_number': '', 'seller_name': 'Main Street Wholesale Meats', 'seller_phone': '( 631 ) 749-0018', 'seller_vat_number': '', 'seller_website': '', 'shipping_date': '', 'shipto_address': '9 WEST 57TH STREET SUITE 4500 23 GRAND AVENUE NEW YORK , NY 10019 SHELTER ISLAND HGTS , NY 11965', 'shipto_name': 'THE CHEQUIT', 'subtotal': '742.37', 'total_due_amount': '749.37', 'total_tax': '7.00'}\n",
            "--------------------\n"
          ]
        }
      ],
      "source": [
        "messages = create_extraction_prompt_messages_text(extracted_fields, extracted_text)\n",
        "response = llm_call(messages, model_identifier=\"qwen_25\")\n",
        "extraction_result = parse_extraction(response, extracted_fields)\n",
        "print(\"Extraction Result:\")\n",
        "print(\"-\"*20)\n",
        "print(extraction_result)\n",
        "print(\"-\"*20)"
      ]
    },
    {
      "cell_type": "code",
      "execution_count": 31,
      "metadata": {
        "id": "IQhY6c8lKIqc",
        "outputId": "52f53cf1-c5b9-4475-c1f8-36e4b1a3feeb"
      },
      "outputs": [
        {
          "name": "stdout",
          "output_type": "stream",
          "text": [
            "Invoice Number: \n",
            "915378\n",
            "\n",
            "Total Due Amount: \n",
            "749.37\n",
            "\n",
            "Buyer Address: \n",
            "9 WEST 57TH STREET SUITE 4500 23 GRAND AVENUE NEW YORK , NY 10019 SHELTER ISLAND HGTS , NY 11965\n",
            "\n",
            "Ship To Address: \n",
            "9 WEST 57TH STREET SUITE 4500 23 GRAND AVENUE NEW YORK , NY 10019 SHELTER ISLAND HGTS , NY 11965\n",
            "\n"
          ]
        }
      ],
      "source": [
        "#Printing Relevant Results\n",
        "\n",
        "print(f\"Invoice Number: \\n{extraction_result['invoice_number']}\\n\")\n",
        "\n",
        "print(f\"Total Due Amount: \\n{extraction_result['total_due_amount']}\\n\")\n",
        "\n",
        "print(f\"Buyer Address: \\n{extraction_result['buyer_address']}\\n\")\n",
        "\n",
        "print(f\"Ship To Address: \\n{extraction_result['shipto_address']}\\n\")\n",
        "\n"
      ]
    },
    {
      "cell_type": "markdown",
      "metadata": {
        "id": "OCKjdXAxPMs6"
      },
      "source": [
        "### 2 Reviewer"
      ]
    },
    {
      "cell_type": "markdown",
      "metadata": {
        "id": "hBbLXwQMPY4X"
      },
      "source": [
        "####2.1  ReviewerLLM: Qwen 2.5 8B (Text only llm)"
      ]
    },
    {
      "cell_type": "code",
      "execution_count": 6,
      "metadata": {
        "id": "ojd8CDOsKIqc"
      },
      "outputs": [],
      "source": [
        "from utils.reviewer_utils import create_review_prompt_messages_text, parse_review\n"
      ]
    },
    {
      "cell_type": "code",
      "execution_count": 33,
      "metadata": {
        "id": "Ra8SawVpKIqc",
        "outputId": "782dd50e-4c09-4ed2-a1bf-f90fe3a3a27c"
      },
      "outputs": [
        {
          "name": "stdout",
          "output_type": "stream",
          "text": [
            "Using model: Qwen2.5-7B-Instruct\n"
          ]
        },
        {
          "name": "stdout",
          "output_type": "stream",
          "text": [
            "Parsing review response: {\"buyer_address\": {\"status\": \"PASS\", \"feedback\": \"\"}, \"buyer_name\": {\"status\": \"PASS\", \"feedback\": \"...\n",
            "Review Result:\n",
            "--------------------\n",
            "{'buyer_address': {'status': 'PASS', 'feedback': ''}, 'buyer_name': {'status': 'PASS', 'feedback': ''}, 'buyer_vat_number': {'status': 'PASS', 'feedback': ''}, 'currency': {'status': 'PASS', 'feedback': ''}, 'invoice_amount': {'status': 'PASS', 'feedback': ''}, 'invoice_date': {'status': 'PASS', 'feedback': ''}, 'invoice_number': {'status': 'PASS', 'feedback': ''}, 'payment_due_date': {'status': 'PASS', 'feedback': ''}, 'po_number': {'status': 'PASS', 'feedback': ''}, 'seller_address': {'status': 'PASS', 'feedback': ''}, 'seller_email': {'status': 'PASS', 'feedback': ''}, 'seller_fax_number': {'status': 'PASS', 'feedback': ''}, 'seller_name': {'status': 'PASS', 'feedback': ''}, 'seller_phone': {'status': 'PASS', 'feedback': ''}, 'seller_vat_number': {'status': 'PASS', 'feedback': ''}, 'seller_website': {'status': 'PASS', 'feedback': ''}, 'shipping_date': {'status': 'PASS', 'feedback': ''}, 'shipto_address': {'status': 'PASS', 'feedback': ''}, 'shipto_name': {'status': 'PASS', 'feedback': ''}, 'subtotal': {'status': 'PASS', 'feedback': ''}, 'total_due_amount': {'status': 'PASS', 'feedback': ''}, 'total_tax': {'status': 'PASS', 'feedback': ''}}\n",
            "--------------------\n"
          ]
        }
      ],
      "source": [
        "messages = create_review_prompt_messages_text(extraction_result, extracted_text)\n",
        "response = llm_call(messages, model_identifier=\"qwen_25\")\n",
        "review_result = parse_review(response, extraction_result)\n",
        "print(\"Review Result:\")\n",
        "print(\"-\"*20)\n",
        "print(review_result)\n",
        "print(\"-\"*20)\n"
      ]
    },
    {
      "cell_type": "code",
      "execution_count": 34,
      "metadata": {
        "id": "m_hya1TzKIqc",
        "outputId": "46cfc354-9ddd-441a-a688-6b58bfd7f103"
      },
      "outputs": [
        {
          "name": "stdout",
          "output_type": "stream",
          "text": [
            "Passed: 22\n",
            "Failed: 0\n",
            "\n",
            "Failed items:\n",
            "--------------------\n"
          ]
        }
      ],
      "source": [
        "# Count passed and failed reviews\n",
        "passed_count = sum(1 for v in review_result.values() if v['status'] == 'PASS')\n",
        "failed_count = sum(1 for v in review_result.values() if v['status'] == 'FAIL')\n",
        "\n",
        "# Print the counts\n",
        "print(f\"Passed: {passed_count}\")\n",
        "print(f\"Failed: {failed_count}\")\n",
        "print(\"\\nFailed items:\")\n",
        "print(\"-\" * 20)\n",
        "\n",
        "# Print failed items\n",
        "for k, v in review_result.items():\n",
        "    if v['status'] == 'FAIL':\n",
        "        print(f\"{k}: {v['feedback']}\")"
      ]
    },
    {
      "cell_type": "code",
      "execution_count": null,
      "metadata": {
        "id": "9jBfAxfMKIqd"
      },
      "outputs": [],
      "source": [
        "#Even Closed Source LLMs are Over confident."
      ]
    },
    {
      "cell_type": "markdown",
      "metadata": {
        "id": "rAtige-jPf1B"
      },
      "source": [
        "####2.2 ReviewerLLM: Qwen 2.5 VL 7B (Multi Modal LLM)"
      ]
    },
    {
      "cell_type": "code",
      "execution_count": 7,
      "metadata": {},
      "outputs": [],
      "source": [
        "from utils.reviewer_utils import create_review_prompt_messages, parse_review\n"
      ]
    },
    {
      "cell_type": "code",
      "execution_count": 35,
      "metadata": {
        "id": "oIKA68z-KIqd",
        "outputId": "b5bba96c-bb29-4dd2-9e33-3a69a1f8b8d7"
      },
      "outputs": [
        {
          "name": "stdout",
          "output_type": "stream",
          "text": [
            "Using model: Qwen2.5-VL-7B-Instruct\n"
          ]
        },
        {
          "name": "stdout",
          "output_type": "stream",
          "text": [
            "Parsing review response: {\n",
            "  \"buyer_address\": {\"status\": \"FAIL\", \"feedback\": \"The address in the image is different from the ...\n",
            "Review Result:\n",
            "--------------------\n",
            "{'buyer_address': {'status': 'FAIL', 'feedback': 'The address in the image is different from the extracted data.'}, 'buyer_name': {'status': 'PASS', 'feedback': ''}, 'buyer_vat_number': {'status': 'PASS', 'feedback': ''}, 'currency': {'status': 'PASS', 'feedback': ''}, 'invoice_amount': {'status': 'PASS', 'feedback': ''}, 'invoice_date': {'status': 'PASS', 'feedback': ''}, 'invoice_number': {'status': 'PASS', 'feedback': ''}, 'payment_due_date': {'status': 'PASS', 'feedback': ''}, 'po_number': {'status': 'PASS', 'feedback': ''}, 'seller_address': {'status': 'FAIL', 'feedback': 'The address in the image is different from the extracted data.'}, 'seller_email': {'status': 'PASS', 'feedback': ''}, 'seller_fax_number': {'status': 'PASS', 'feedback': ''}, 'seller_name': {'status': 'PASS', 'feedback': ''}, 'seller_phone': {'status': 'PASS', 'feedback': ''}, 'seller_vat_number': {'status': 'PASS', 'feedback': ''}, 'seller_website': {'status': 'PASS', 'feedback': ''}, 'shipping_date': {'status': 'PASS', 'feedback': ''}, 'shipto_address': {'status': 'FAIL', 'feedback': 'The address in the image is different from the extracted data.'}, 'shipto_name': {'status': 'PASS', 'feedback': ''}, 'subtotal': {'status': 'PASS', 'feedback': ''}, 'total_due_amount': {'status': 'PASS', 'feedback': ''}, 'total_tax': {'status': 'PASS', 'feedback': ''}}\n",
            "--------------------\n"
          ]
        }
      ],
      "source": [
        "messages = create_review_prompt_messages(extraction_result, extracted_text, img_bytes)\n",
        "response = llm_call(messages, model_identifier=\"qwen_25_vl\")\n",
        "review_result = parse_review(response, extraction_result)\n",
        "print(\"Review Result:\")\n",
        "print(\"-\"*20)\n",
        "print(review_result)\n",
        "print(\"-\"*20)"
      ]
    },
    {
      "cell_type": "code",
      "execution_count": 36,
      "metadata": {
        "id": "InMcWWu_KIqd",
        "outputId": "9c1b8d4b-4fda-472f-cca2-f039b8ded5e9"
      },
      "outputs": [
        {
          "name": "stdout",
          "output_type": "stream",
          "text": [
            "Passed: 19\n",
            "Failed: 3\n",
            "\n",
            "Failed items:\n",
            "--------------------\n",
            "buyer_address: The address in the image is different from the extracted data.\n",
            "seller_address: The address in the image is different from the extracted data.\n",
            "shipto_address: The address in the image is different from the extracted data.\n"
          ]
        }
      ],
      "source": [
        "# Count passed and failed reviews\n",
        "passed_count = sum(1 for v in review_result.values() if v['status'] == 'PASS')\n",
        "failed_count = sum(1 for v in review_result.values() if v['status'] == 'FAIL')\n",
        "\n",
        "# Print the counts\n",
        "print(f\"Passed: {passed_count}\")\n",
        "print(f\"Failed: {failed_count}\")\n",
        "print(\"\\nFailed items:\")\n",
        "print(\"-\" * 20)\n",
        "\n",
        "# Print failed items\n",
        "for k, v in review_result.items():\n",
        "    if v['status'] == 'FAIL':\n",
        "        print(f\"{k}: {v['feedback']}\")"
      ]
    },
    {
      "cell_type": "code",
      "execution_count": null,
      "metadata": {
        "id": "TWI8e-omKIqd"
      },
      "outputs": [],
      "source": [
        "#2.3 ReviewerLLM: Qwen 3 (Reasoning LLM text only)"
      ]
    },
    {
      "cell_type": "markdown",
      "metadata": {
        "id": "ztfaZ2txPvpK"
      },
      "source": [
        "#### 2.3 ReviewerLLM: Qwen 3 (Reasoning LLM text only)\n"
      ]
    },
    {
      "cell_type": "code",
      "execution_count": 37,
      "metadata": {
        "id": "n9f3wWqOKIqd",
        "outputId": "a2c44163-c68c-4146-cbe5-9703036210f6"
      },
      "outputs": [
        {
          "name": "stdout",
          "output_type": "stream",
          "text": [
            "Using model: Qwen/Qwen3-8B\n"
          ]
        },
        {
          "name": "stdout",
          "output_type": "stream",
          "text": [
            "Parsing review response: \n",
            "\n",
            "{\"buyer_address\": {\"status\": \"PASS\", \"feedback\": \"\"}, \"buyer_name\": {\"status\": \"PASS\", \"feedback\":...\n",
            "Review Result:\n",
            "--------------------\n",
            "{'buyer_address': {'status': 'PASS', 'feedback': ''}, 'buyer_name': {'status': 'PASS', 'feedback': ''}, 'buyer_vat_number': {'status': 'PASS', 'feedback': ''}, 'currency': {'status': 'PASS', 'feedback': ''}, 'invoice_amount': {'status': 'PASS', 'feedback': ''}, 'invoice_date': {'status': 'PASS', 'feedback': ''}, 'invoice_number': {'status': 'PASS', 'feedback': ''}, 'payment_due_date': {'status': 'PASS', 'feedback': ''}, 'po_number': {'status': 'PASS', 'feedback': ''}, 'seller_address': {'status': 'PASS', 'feedback': ''}, 'seller_email': {'status': 'PASS', 'feedback': ''}, 'seller_fax_number': {'status': 'PASS', 'feedback': ''}, 'seller_name': {'status': 'PASS', 'feedback': ''}, 'seller_phone': {'status': 'PASS', 'feedback': ''}, 'seller_vat_number': {'status': 'PASS', 'feedback': ''}, 'seller_website': {'status': 'PASS', 'feedback': ''}, 'shipping_date': {'status': 'PASS', 'feedback': ''}, 'shipto_address': {'status': 'PASS', 'feedback': ''}, 'shipto_name': {'status': 'PASS', 'feedback': ''}, 'subtotal': {'status': 'PASS', 'feedback': ''}, 'total_due_amount': {'status': 'PASS', 'feedback': ''}, 'total_tax': {'status': 'PASS', 'feedback': ''}}\n",
            "--------------------\n"
          ]
        }
      ],
      "source": [
        "messages = create_review_prompt_messages_text(extraction_result, extracted_text)\n",
        "response, reasoning = llm_call(messages, model_identifier=\"qwen_3\")\n",
        "review_result = parse_review(response, extraction_result)\n",
        "print(\"Review Result:\")\n",
        "print(\"-\"*20)\n",
        "print(review_result)\n",
        "print(\"-\"*20)\n"
      ]
    },
    {
      "cell_type": "code",
      "execution_count": 38,
      "metadata": {
        "id": "uL4788UlKIqe",
        "outputId": "58a640d5-503e-43db-b988-5a36e13ecc4b"
      },
      "outputs": [
        {
          "name": "stdout",
          "output_type": "stream",
          "text": [
            "Passed: 22\n",
            "Failed: 0\n",
            "\n",
            "Failed items:\n",
            "--------------------\n"
          ]
        }
      ],
      "source": [
        "# Count passed and failed reviews\n",
        "passed_count = sum(1 for v in review_result.values() if v['status'] == 'PASS')\n",
        "failed_count = sum(1 for v in review_result.values() if v['status'] == 'FAIL')\n",
        "\n",
        "# Print the counts\n",
        "print(f\"Passed: {passed_count}\")\n",
        "print(f\"Failed: {failed_count}\")\n",
        "print(\"\\nFailed items:\")\n",
        "print(\"-\" * 20)\n",
        "\n",
        "# Print failed items\n",
        "for k, v in review_result.items():\n",
        "    if v['status'] == 'FAIL':\n",
        "        print(f\"{k}: {v['feedback']}\")"
      ]
    },
    {
      "cell_type": "code",
      "execution_count": 17,
      "metadata": {
        "id": "-nT_VNvSKIqe",
        "outputId": "71c5a2b6-4684-4d3d-e3a4-6f4c1fefedff"
      },
      "outputs": [
        {
          "name": "stdout",
          "output_type": "stream",
          "text": [
            "\n",
            "Okay, let's start by looking at the extracted data and comparing each field against the OCR text provided. \n",
            "\n",
            "First, the buyer_address. The extracted value is a long string with multiple addresses. Looking at the OCR text, under \"SOLD THE CHEQUIT\" there's \"9 WEST 57TH STREET SUITE 4500 23 GRAND AVENUE NEW YORK , NY 10019 SHELTER ISLAND HGTS , NY 11965\". That seems to match the buyer_address exactly. So that's a PASS.\n",
            "\n",
            "Next, buyer_name is \"THE CHEQUIT\". In the OCR text, right after \"SOLD\" it says \"THE CHEQUIT\", so that's correct. PASS.\n",
            "\n",
            "Buyer_vat_number is empty. The document doesn't mention any VAT number for the buyer, so PASS.\n",
            "\n",
            "Currency is USD. The invoice is in USD, as indicated by the amounts and the context. PASS.\n",
            "\n",
            "Invoice_amount is 749.37. The total at the end of the OCR text says \"Total 749.37\", so that's correct. PASS.\n",
            "\n",
            "Invoice_date is 08/07/24. The OCR text has \"Invoice Date 08/07/24\", so the format is correct. PASS.\n",
            "\n",
            "Invoice_number is 915378. The OCR text has \"Invoice No. 915378\", so that's correct. PASS.\n",
            "\n",
            "Payment_due_date is empty. The document doesn't specify a due date, so PASS.\n",
            "\n",
            "PO_number is 1. The OCR text says \"PO Number 1\", so PASS.\n",
            "\n",
            "Seller_address is \"FARMINGDALE 210 Main Street MARKET Farmingdale , NY 11735\". The OCR text has \"FARMINGDALE 210 Main Street MARKET Farmingdale , NY 11735\" under the seller info. That matches, so PASS.\n",
            "\n",
            "Seller_email is empty. The document doesn't have an email, so PASS.\n",
            "\n",
            "Seller_fax_number is empty. The OCR text has \"FAX :\" but no number, so PASS.\n",
            "\n",
            "Seller_name is \"Main Street Wholesale Meats\". The OCR text starts with \"Main Street Wholesale Meats\" as the seller name. PASS.\n",
            "\n",
            "Seller_phone is \"( 631 ) 749-0018\". The OCR text has \"PHONE : ( 631 ) 749-0018\", so correct. PASS.\n",
            "\n",
            "Seller_vat_number is empty. No VAT number mentioned, PASS.\n",
            "\n",
            "Seller_website is empty. Not present, PASS.\n",
            "\n",
            "Shipping_date is empty. Not mentioned, PASS.\n",
            "\n",
            "Shipto_address is the same as buyer_address. The OCR text has the same address under \"SHIP THE CHEQUIT\", so PASS.\n",
            "\n",
            "Shipto_name is \"THE CHEQUIT\". Matches the buyer name, PASS.\n",
            "\n",
            "Subtotal is 742.37. The OCR text has \"Total Weight Sales Amt 742.37\", so correct. PASS.\n",
            "\n",
            "Total_due_amount is 749.37. The total at the end is 749.37, so PASS.\n",
            "\n",
            "Total_tax is 7.00. The OCR text mentions \"7.00\" under \"Sales Tax 0.00\" and \"Total 749.37\", so the tax is 7.00. PASS.\n",
            "\n",
            "I need to make sure I didn't miss any fields. Let me check again. All fields are covered. The only possible issue might be the seller_address, but the OCR text has \"FARMINGDALE 210 Main Street MARKET Farmingdale , NY 11735\" which matches the extracted value. Also, the seller's name is correctly captured. All other fields seem to align with the OCR text. So all should be PASS.\n",
            "\n"
          ]
        }
      ],
      "source": [
        "print(reasoning)"
      ]
    },
    {
      "cell_type": "code",
      "execution_count": null,
      "metadata": {
        "id": "VyFM2Z9MKIqe",
        "outputId": "61816777-ae1d-4be2-d224-75de7208aa93"
      },
      "outputs": [
        {
          "name": "stdout",
          "output_type": "stream",
          "text": [
            "Looking at the OCR text, \n",
            "there's a section under \"SOLD THE CHEQUIT\" followed by the addresses: \"9 WEST 57TH STREET SUITE 4500 23 GRAND AVENUE NEW YORK , NY 10019 SHELTER ISLAND HGTS , NY 11965\". \n",
            "That seems to match the buyer_address exactly. \n",
            "But wait, the OCR text also has \"SHIP THE CHEQUIT\" next to the address. \n",
            "Maybe that's part of the shipto address? \n",
            "But the extracted data has the same address for both buyer_address and shipto_address. \n",
            "I need to check if the buyer_address is correctly captured....\n"
          ]
        }
      ],
      "source": [
        "print(f\"\"\"Looking at the OCR text,\n",
        "there's a section under \"SOLD THE CHEQUIT\" followed by the addresses: \"9 WEST 57TH STREET SUITE 4500 23 GRAND AVENUE NEW YORK , NY 10019 SHELTER ISLAND HGTS , NY 11965\".\n",
        "That seems to match the buyer_address exactly.\n",
        "But wait, the OCR text also has \"SHIP THE CHEQUIT\" next to the address.\n",
        "Maybe that's part of the shipto address?\n",
        "But the extracted data has the same address for both buyer_address and shipto_address.\n",
        "I need to check if the buyer_address is correctly captured....\"\"\")"
      ]
    },
    {
      "cell_type": "code",
      "execution_count": null,
      "metadata": {
        "id": "2OTVZdWTKIqe"
      },
      "outputs": [],
      "source": []
    },
    {
      "cell_type": "code",
      "execution_count": null,
      "metadata": {
        "id": "W8stoVKjKIqe"
      },
      "outputs": [],
      "source": []
    },
    {
      "cell_type": "markdown",
      "metadata": {
        "id": "2y-2A9pvP6L4"
      },
      "source": [
        "## Iteration 2\n",
        "####1. Extractor LLM: Qwen2.5 VL 7B\n",
        "#####Multimodal LLM (Vision Encoder + Decoder)"
      ]
    },
    {
      "cell_type": "code",
      "execution_count": 8,
      "metadata": {
        "id": "Ia0eDs4cKIqe"
      },
      "outputs": [],
      "source": [
        "from utils.extractor_utils import create_extraction_prompt_messages"
      ]
    },
    {
      "cell_type": "code",
      "execution_count": 40,
      "metadata": {
        "id": "F0dhPCWDKIqe",
        "outputId": "00b85f97-ff6e-4d29-c525-827d99345327"
      },
      "outputs": [
        {
          "name": "stdout",
          "output_type": "stream",
          "text": [
            "Using model: Qwen2.5-VL-7B-Instruct\n"
          ]
        },
        {
          "name": "stdout",
          "output_type": "stream",
          "text": [
            "Extraction Result:\n",
            "--------------------\n",
            "{'buyer_address': '9 WEST 57TH STREET SUITE 4500 NEW YORK, NY 10019', 'buyer_name': 'THE CHEQUIT', 'buyer_vat_number': '', 'currency': 'USD', 'invoice_amount': '742.37', 'invoice_date': '08/06/24', 'invoice_number': '915378', 'payment_due_date': '08/07/24', 'po_number': '', 'seller_address': '210 Main Street Farmingdale, NY 11735', 'seller_email': '', 'seller_fax_number': '', 'seller_name': 'Main Street Wholesale Meats', 'seller_phone': '(516) 249-8200', 'seller_vat_number': '', 'seller_website': '', 'shipping_date': '', 'shipto_address': '23 GRAND AVENUE SHELTER ISLAND HGTS, NY 11965', 'shipto_name': 'THE CHEQUIT', 'subtotal': '742.37', 'total_due_amount': '749.37', 'total_tax': '7.00'}\n",
            "--------------------\n"
          ]
        }
      ],
      "source": [
        "messages = create_extraction_prompt_messages(extracted_fields, extracted_text, img_bytes)\n",
        "response = llm_call(messages, model_identifier=\"qwen_25_vl\")\n",
        "extraction_result = parse_extraction(response, extracted_fields)\n",
        "print(\"Extraction Result:\")\n",
        "print(\"-\"*20)\n",
        "print(extraction_result)\n",
        "print(\"-\"*20)"
      ]
    },
    {
      "cell_type": "code",
      "execution_count": 41,
      "metadata": {
        "id": "l1X_rE5QKIqf",
        "outputId": "23ca67ac-f295-48bc-812e-5c5cc602a8fc"
      },
      "outputs": [
        {
          "name": "stdout",
          "output_type": "stream",
          "text": [
            "Invoice Number: \n",
            "915378\n",
            "\n",
            "Total Due Amount: \n",
            "749.37\n",
            "\n",
            "Buyer Address: \n",
            "9 WEST 57TH STREET SUITE 4500 NEW YORK, NY 10019\n",
            "\n",
            "Ship To Address: \n",
            "23 GRAND AVENUE SHELTER ISLAND HGTS, NY 11965\n",
            "\n"
          ]
        }
      ],
      "source": [
        "print(f\"Invoice Number: \\n{extraction_result['invoice_number']}\\n\")\n",
        "\n",
        "print(f\"Total Due Amount: \\n{extraction_result['total_due_amount']}\\n\")\n",
        "\n",
        "print(f\"Buyer Address: \\n{extraction_result['buyer_address']}\\n\")\n",
        "\n",
        "print(f\"Ship To Address: \\n{extraction_result['shipto_address']}\\n\")"
      ]
    },
    {
      "cell_type": "code",
      "execution_count": null,
      "metadata": {
        "id": "FwcBufteKIqf"
      },
      "outputs": [],
      "source": []
    },
    {
      "cell_type": "markdown",
      "metadata": {
        "id": "I4SkbofGQGX7"
      },
      "source": [
        "###2. Reviewer"
      ]
    },
    {
      "cell_type": "markdown",
      "metadata": {
        "id": "iS7uaaJ6QQSZ"
      },
      "source": [
        "####2.1 Reviewer LLM: Qwen 2.5"
      ]
    },
    {
      "cell_type": "code",
      "execution_count": null,
      "metadata": {
        "id": "FAgY8_hPKIqf",
        "outputId": "ca05a7e4-6baf-457b-f43d-6674dafcf5e1"
      },
      "outputs": [
        {
          "name": "stdout",
          "output_type": "stream",
          "text": [
            "Using model: Qwen2.5-7B-Instruct\n"
          ]
        },
        {
          "name": "stdout",
          "output_type": "stream",
          "text": [
            "Parsing review response: {\"buyer_address\": {\"status\": \"PASS\", \"feedback\": \"\"}, \"buyer_name\": {\"status\": \"PASS\", \"feedback\": \"...\n",
            "Review Result:\n",
            "--------------------\n",
            "{'buyer_address': {'status': 'PASS', 'feedback': ''}, 'buyer_name': {'status': 'PASS', 'feedback': ''}, 'buyer_vat_number': {'status': 'PASS', 'feedback': ''}, 'currency': {'status': 'PASS', 'feedback': ''}, 'invoice_amount': {'status': 'PASS', 'feedback': ''}, 'invoice_date': {'status': 'PASS', 'feedback': ''}, 'invoice_number': {'status': 'PASS', 'feedback': ''}, 'payment_due_date': {'status': 'PASS', 'feedback': ''}, 'po_number': {'status': 'PASS', 'feedback': ''}, 'seller_address': {'status': 'PASS', 'feedback': ''}, 'seller_email': {'status': 'PASS', 'feedback': ''}, 'seller_fax_number': {'status': 'PASS', 'feedback': ''}, 'seller_name': {'status': 'PASS', 'feedback': ''}, 'seller_phone': {'status': 'PASS', 'feedback': ''}, 'seller_vat_number': {'status': 'PASS', 'feedback': ''}, 'seller_website': {'status': 'PASS', 'feedback': ''}, 'shipping_date': {'status': 'PASS', 'feedback': ''}, 'shipto_address': {'status': 'PASS', 'feedback': ''}, 'shipto_name': {'status': 'PASS', 'feedback': ''}, 'subtotal': {'status': 'PASS', 'feedback': ''}, 'total_due_amount': {'status': 'PASS', 'feedback': ''}, 'total_tax': {'status': 'PASS', 'feedback': ''}}\n",
            "--------------------\n"
          ]
        }
      ],
      "source": [
        "messages = create_review_prompt_messages_text(extraction_result, extracted_text)\n",
        "response = llm_call(messages, model_identifier=\"qwen_25\")\n",
        "review_result = parse_review(response, extraction_result)\n",
        "print(\"Review Result:\")\n",
        "print(\"-\"*20)\n",
        "print(review_result)\n",
        "print(\"-\"*20)\n"
      ]
    },
    {
      "cell_type": "code",
      "execution_count": null,
      "metadata": {
        "id": "kTFRX3r-KIqt",
        "outputId": "7adbaa6f-6fb5-43c6-f955-790829e7debe"
      },
      "outputs": [
        {
          "name": "stdout",
          "output_type": "stream",
          "text": [
            "Passed: 22\n",
            "Failed: 0\n",
            "\n",
            "Failed items:\n",
            "--------------------\n"
          ]
        }
      ],
      "source": [
        "# Count passed and failed reviews\n",
        "passed_count = sum(1 for v in review_result.values() if v['status'] == 'PASS')\n",
        "failed_count = sum(1 for v in review_result.values() if v['status'] == 'FAIL')\n",
        "\n",
        "# Print the counts\n",
        "print(f\"Passed: {passed_count}\")\n",
        "print(f\"Failed: {failed_count}\")\n",
        "print(\"\\nFailed items:\")\n",
        "print(\"-\" * 20)\n",
        "\n",
        "# Print failed items\n",
        "for k, v in review_result.items():\n",
        "    if v['status'] == 'FAIL':\n",
        "        print(f\"{k}: {v['feedback']}\")"
      ]
    },
    {
      "cell_type": "markdown",
      "metadata": {
        "id": "4aoQtpC6QdQM"
      },
      "source": [
        "####2.2 Reviewer LLM: Qwen 2.5 VL"
      ]
    },
    {
      "cell_type": "code",
      "execution_count": 42,
      "metadata": {
        "id": "ai2vdpOcKIqu",
        "outputId": "caf49427-ac92-4cc6-daa8-f8c02763bec4"
      },
      "outputs": [
        {
          "name": "stdout",
          "output_type": "stream",
          "text": [
            "Using model: Qwen2.5-VL-7B-Instruct\n"
          ]
        },
        {
          "name": "stdout",
          "output_type": "stream",
          "text": [
            "Parsing review response: {\n",
            "  \"buyer_address\": {\"status\": \"PASS\", \"feedback\": \"\"},\n",
            "  \"buyer_name\": {\"status\": \"PASS\", \"feedbac...\n",
            "Review Result:\n",
            "--------------------\n",
            "{'buyer_address': {'status': 'PASS', 'feedback': ''}, 'buyer_name': {'status': 'PASS', 'feedback': ''}, 'buyer_vat_number': {'status': 'PASS', 'feedback': ''}, 'currency': {'status': 'PASS', 'feedback': ''}, 'invoice_amount': {'status': 'PASS', 'feedback': ''}, 'invoice_date': {'status': 'PASS', 'feedback': ''}, 'invoice_number': {'status': 'PASS', 'feedback': ''}, 'payment_due_date': {'status': 'PASS', 'feedback': ''}, 'po_number': {'status': 'PASS', 'feedback': ''}, 'seller_address': {'status': 'PASS', 'feedback': ''}, 'seller_email': {'status': 'PASS', 'feedback': ''}, 'seller_fax_number': {'status': 'PASS', 'feedback': ''}, 'seller_name': {'status': 'PASS', 'feedback': ''}, 'seller_phone': {'status': 'PASS', 'feedback': ''}, 'seller_vat_number': {'status': 'PASS', 'feedback': ''}, 'seller_website': {'status': 'PASS', 'feedback': ''}, 'shipping_date': {'status': 'PASS', 'feedback': ''}, 'shipto_address': {'status': 'PASS', 'feedback': ''}, 'shipto_name': {'status': 'PASS', 'feedback': ''}, 'subtotal': {'status': 'PASS', 'feedback': ''}, 'total_due_amount': {'status': 'PASS', 'feedback': ''}, 'total_tax': {'status': 'PASS', 'feedback': ''}}\n",
            "--------------------\n"
          ]
        }
      ],
      "source": [
        "messages = create_review_prompt_messages(extraction_result, extracted_text, img_bytes)\n",
        "response = llm_call(messages, model_identifier=\"qwen_25_vl\")\n",
        "review_result = parse_review(response, extraction_result)\n",
        "print(\"Review Result:\")\n",
        "print(\"-\"*20)\n",
        "print(review_result)\n",
        "print(\"-\"*20)\n"
      ]
    },
    {
      "cell_type": "code",
      "execution_count": 43,
      "metadata": {
        "id": "FAN_HbKQKIqu",
        "outputId": "97463ac6-bfba-4720-a4ec-10cae3fc5ed9"
      },
      "outputs": [
        {
          "name": "stdout",
          "output_type": "stream",
          "text": [
            "Passed: 22\n",
            "Failed: 0\n",
            "\n",
            "Failed items:\n",
            "--------------------\n"
          ]
        }
      ],
      "source": [
        "# Count passed and failed reviews\n",
        "passed_count = sum(1 for v in review_result.values() if v['status'] == 'PASS')\n",
        "failed_count = sum(1 for v in review_result.values() if v['status'] == 'FAIL')\n",
        "\n",
        "# Print the counts\n",
        "print(f\"Passed: {passed_count}\")\n",
        "print(f\"Failed: {failed_count}\")\n",
        "print(\"\\nFailed items:\")\n",
        "print(\"-\" * 20)\n",
        "\n",
        "# Print failed items\n",
        "for k, v in review_result.items():\n",
        "    if v['status'] == 'FAIL':\n",
        "        print(f\"{k}: {v['feedback']}\")"
      ]
    },
    {
      "cell_type": "markdown",
      "metadata": {
        "id": "6hknzWvKQgdX"
      },
      "source": [
        "####2.3 Reviewer LLM: Qwen 3 (Reasoning LLM text only)"
      ]
    },
    {
      "cell_type": "code",
      "execution_count": 44,
      "metadata": {
        "id": "g-k0ku2qKIqu",
        "outputId": "c2b547f8-7a17-4d95-b95b-4f3fc8bac61a"
      },
      "outputs": [
        {
          "name": "stdout",
          "output_type": "stream",
          "text": [
            "Using model: Qwen/Qwen3-8B\n"
          ]
        },
        {
          "name": "stdout",
          "output_type": "stream",
          "text": [
            "Parsing review response: \n",
            "\n",
            "{\"buyer_address\": {\"status\": \"PASS\", \"feedback\": \"\"}, \"buyer_name\": {\"status\": \"PASS\", \"feedback\":...\n",
            "Review Result:\n",
            "--------------------\n",
            "{'buyer_address': {'status': 'PASS', 'feedback': ''}, 'buyer_name': {'status': 'PASS', 'feedback': ''}, 'buyer_vat_number': {'status': 'PASS', 'feedback': ''}, 'currency': {'status': 'PASS', 'feedback': ''}, 'invoice_amount': {'status': 'PASS', 'feedback': ''}, 'invoice_date': {'status': 'FAIL', 'feedback': 'Incorrect date format (extracted 08/06/24 vs document 08/07/24)'}, 'invoice_number': {'status': 'PASS', 'feedback': ''}, 'payment_due_date': {'status': 'PASS', 'feedback': ''}, 'po_number': {'status': 'FAIL', 'feedback': 'Value not found in document (PO Number 1 present)'}, 'seller_address': {'status': 'PASS', 'feedback': ''}, 'seller_email': {'status': 'PASS', 'feedback': ''}, 'seller_fax_number': {'status': 'PASS', 'feedback': ''}, 'seller_name': {'status': 'PASS', 'feedback': ''}, 'seller_phone': {'status': 'PASS', 'feedback': ''}, 'seller_vat_number': {'status': 'PASS', 'feedback': ''}, 'seller_website': {'status': 'PASS', 'feedback': ''}, 'shipping_date': {'status': 'PASS', 'feedback': ''}, 'shipto_address': {'status': 'PASS', 'feedback': ''}, 'shipto_name': {'status': 'PASS', 'feedback': ''}, 'subtotal': {'status': 'PASS', 'feedback': ''}, 'total_due_amount': {'status': 'PASS', 'feedback': ''}, 'total_tax': {'status': 'PASS', 'feedback': ''}}\n",
            "--------------------\n"
          ]
        }
      ],
      "source": [
        "messages = create_review_prompt_messages_text(extraction_result, extracted_text)\n",
        "response, reasoning = llm_call(messages, model_identifier=\"qwen_3\")\n",
        "review_result = parse_review(response, extraction_result)\n",
        "print(\"Review Result:\")\n",
        "print(\"-\"*20)\n",
        "print(review_result)\n",
        "print(\"-\"*20)\n"
      ]
    },
    {
      "cell_type": "code",
      "execution_count": 45,
      "metadata": {
        "id": "ahzrqGUQKIqu",
        "outputId": "37262391-cc61-42ee-dbcf-21cab4f4a104"
      },
      "outputs": [
        {
          "name": "stdout",
          "output_type": "stream",
          "text": [
            "Passed: 20\n",
            "Failed: 2\n",
            "\n",
            "Failed items:\n",
            "--------------------\n",
            "invoice_date: Incorrect date format (extracted 08/06/24 vs document 08/07/24)\n",
            "po_number: Value not found in document (PO Number 1 present)\n"
          ]
        }
      ],
      "source": [
        "# Count passed and failed reviews\n",
        "passed_count = sum(1 for v in review_result.values() if v['status'] == 'PASS')\n",
        "failed_count = sum(1 for v in review_result.values() if v['status'] == 'FAIL')\n",
        "\n",
        "# Print the counts\n",
        "print(f\"Passed: {passed_count}\")\n",
        "print(f\"Failed: {failed_count}\")\n",
        "print(\"\\nFailed items:\")\n",
        "print(\"-\" * 20)\n",
        "\n",
        "# Print failed items\n",
        "for k, v in review_result.items():\n",
        "    if v['status'] == 'FAIL':\n",
        "        print(f\"{k}: {v['feedback']}\")"
      ]
    },
    {
      "cell_type": "code",
      "execution_count": null,
      "metadata": {
        "id": "bfDAar_iKIqu",
        "outputId": "82b3960b-ea4a-4a4a-f1d7-945bde09cdab"
      },
      "outputs": [
        {
          "data": {
            "text/plain": [
              "'08/06/24'"
            ]
          },
          "execution_count": 60,
          "metadata": {},
          "output_type": "execute_result"
        }
      ],
      "source": [
        "extraction_result['invoice_date']"
      ]
    },
    {
      "cell_type": "code",
      "execution_count": null,
      "metadata": {
        "id": "mihKXALJKIqu",
        "outputId": "51665a6b-5259-4656-b11b-30dd757fd274"
      },
      "outputs": [
        {
          "name": "stdout",
          "output_type": "stream",
          "text": [
            "\n",
            "Okay, let's start by carefully reviewing the extracted data against the OCR text provided. The goal is to check each field in the JSON to see if it matches the information in the OCR text. \n",
            "\n",
            "First, the buyer_address is \"9 WEST 57TH STREET SUITE 4500 NEW YORK, NY 10019\". Looking through the OCR text, I see \"9 WEST 57TH STREET SUITE 4500 NEW YORK , NY 10019\" under the \"SOLD THE CHEQUIT\" section. The address is present, so that's a PASS.\n",
            "\n",
            "Next, buyer_name is \"THE CHEQUIT\". The OCR text mentions \"SOLD THE CHEQUIT\" which matches, so that's a PASS. \n",
            "\n",
            "Buyer_vat_number is empty. The OCR text doesn't mention any VAT number for the buyer, so that's a PASS.\n",
            "\n",
            "Currency is USD. The OCR text doesn't explicitly state the currency, but since it's an invoice in the US and the amounts are in dollars, USD is likely correct. However, the OCR text doesn't mention USD, so maybe this is a FAIL? Wait, the total amounts are in USD, but the currency field might be inferred. However, the instruction says to check against the document. Since the OCR text doesn't have the currency specified, maybe this is a FAIL. Wait, the user might have assumed USD based on the context, but the extracted data has USD. The OCR text doesn't have the currency explicitly, so maybe this is a FAIL. Hmm, need to check again. The OCR text has amounts like 742.37, which are in USD, but the currency isn't stated. So the extracted value is USD, but the document doesn't have it. So this would be a FAIL? Or is it acceptable to assume USD? The instruction says to check against the document. If the document doesn't have the currency, then the extracted value might be incorrect. But since the user provided the OCR text and the extracted data includes USD, which is the standard for the US, maybe it's a PASS. However, the OCR text doesn't explicitly state the currency. This is a bit ambiguous. I'll have to check other fields for similar issues.\n",
            "\n",
            "Invoice_amount is 742.37. The OCR text has \"Total Weight Sales Amt 742.37\", so that's a PASS.\n",
            "\n",
            "Invoice_date is 08/06/24. The OCR text mentions \"Invoice Date 08/07/24\" but the invoice date might be the date of the invoice, which could be the same as the payment due date. Wait, the OCR text has \"Invoice No. 915378 08/07/24\" which is the invoice date. The extracted data has 08/06/24 as the invoice date. Wait, the extracted data's invoice_date is 08/06/24, but the OCR text shows the invoice date as 08/07/24. So this is a discrepancy. Therefore, this is a FAIL. The invoice_date in the extracted data is incorrect.\n",
            "\n",
            "Invoice_number is 915378. The OCR text has \"Invoice No. 915378\", so that's a PASS.\n",
            "\n",
            "Payment_due_date is 08/07/24. The OCR text has \"Invoice Date 08/07/24\" which is likely the payment due date. So that's a PASS.\n",
            "\n",
            "PO_number is empty. The OCR text doesn't mention a PO number, so PASS.\n",
            "\n",
            "Seller_address is \"210 Main Street Farmingdale, NY 11735\". The OCR text has \"Farmingdale 210 Main Street Farmingdale , NY 11735\" which matches, so PASS.\n",
            "\n",
            "Seller_email is empty. The OCR text doesn't have an email, so PASS.\n",
            "\n",
            "Seller_fax_number is empty. The OCR text has \"FAX :\" but no number, so PASS.\n",
            "\n",
            "Seller_name is \"Main Street Wholesale Meats\". The OCR text starts with \"Main Street Wholesale Meats\", so PASS.\n",
            "\n",
            "Seller_phone is \"(516) 249-8200\". The OCR text has \"(516) 249-8200\" under \"MEAT ( 516 ) 249-8200\", so PASS.\n",
            "\n",
            "Seller_vat_number is empty. The OCR text doesn't mention a VAT number, so PASS.\n",
            "\n",
            "Seller_website is empty. No mention in OCR text, so PASS.\n",
            "\n",
            "Shipping_date is empty. The OCR text doesn't have a shipping date, so PASS.\n",
            "\n",
            "Shipto_address is \"23 GRAND AVENUE SHELTER ISLAND HGTS, NY 11965\". The OCR text has \"23 GRAND AVENUE SHELTER ISLAND HGTS , NY 11965\" under \"SHIP THE CHEQUIT\", so PASS.\n",
            "\n",
            "Shipto_name is \"THE CHEQUIT\". The OCR text has \"SHIP THE CHEQUIT\", so PASS.\n",
            "\n",
            "Subtotal is 742.37. The OCR text has \"Total Weight Sales Amt 742.37\", so PASS.\n",
            "\n",
            "Total_due_amount is 749.37. The OCR text has \"Total 749.37\", so PASS.\n",
            "\n",
            "Total_tax is 7.00. The OCR text has \"7.00\" under \"Sales Tax 0.00\" and \"7.00\" in the total, so PASS.\n",
            "\n",
            "Wait, the OCR text has \"Sales Tax 0.00\" and then \"7.00\" which might be the tax amount. Let me check again. The OCR text has \"Total Weight Sales Amt 742.37\" then \"7.00\" and \"74.57 Sales Tax 0.00\". Wait, that's confusing. Let me parse that part again. The line says \"Total Weight Sales Amt 742.37\" then \"7.00\" and then \"Sales Tax 0.00\" and \"Total 749.37\". Wait, maybe the \"7.00\" is the tax amount. Because 742.37 + 7.00 = 749.37. So the total tax is 7.00. Therefore, the extracted total_tax is correct. So that's a PASS.\n",
            "\n",
            "So the only issue is the invoice_date being 08/06/24 instead of 08/07/24. Also, the currency might be an issue if it's not explicitly stated. Wait, the OCR text doesn't have the currency, but the invoice is in USD. However, the extracted data includes USD, which might be correct. But since the OCR text doesn't specify the currency, maybe the extracted value is incorrect. But the user might have inferred it based on the context. However, according to the instructions, we should compare against the document. If the document doesn't have the currency, then the extracted value might be wrong. However, the user might have assumed USD. This is a bit tricky. \n",
            "\n",
            "But looking back at the extracted data, the currency is USD. The OCR text doesn't have the currency specified, so the extracted value might be an assumption. Therefore, this would be a FAIL. But the user might have considered that the default is USD. However, the instructions say to check against the document. If the document doesn't mention the currency, then the extracted value is incorrect. So, the currency field would be a FAIL. \n",
            "\n",
            "Wait, the user's instructions say: \"If the extracted value exists and is not blank, then check if it is present in the document. If present then 'PASS'. If it is not present then 'FAIL'.\" So, since the OCR text doesn't have the currency, the extracted value USD is not present, so it's a FAIL. But maybe the currency is inferred from the amounts. However, the instruction says to check against the document. Therefore, the currency field is a FAIL. \n",
            "\n",
            "But in the example given, the user might have assumed that USD is correct. However, according to the strict instructions, since the OCR text doesn't have the currency specified, the extracted value is not present, so it's a FAIL. \n",
            "\n",
            "So, the currency is a FAIL. \n",
            "\n",
            "But I need to check all fields again. Let me go through each one again.\n",
            "\n",
            "Buyer_address: PASS\n",
            "Buyer_name: PASS\n",
            "Buyer_vat_number: PASS (empty)\n",
            "Currency: FAIL (not present in OCR text)\n",
            "Invoice_amount: PASS\n",
            "Invoice_date: FAIL (extracted as 08/06/24, OCR has 08/07/24)\n",
            "Invoice_number: PASS\n",
            "Payment_due_date: PASS (OCR has 08/07/24)\n",
            "PO_number: PASS (empty)\n",
            "Seller_address: PASS\n",
            "Seller_email: PASS (empty)\n",
            "Seller_fax_number: PASS (empty)\n",
            "Seller_name: PASS\n",
            "Seller_phone: PASS\n",
            "Seller_vat_number: PASS (empty)\n",
            "Seller_website: PASS (empty)\n",
            "Shipping_date: PASS (empty)\n",
            "Shipto_address: PASS\n",
            "Shipto_name: PASS\n",
            "Subtotal: PASS\n",
            "Total_due_amount: PASS\n",
            "Total_tax: PASS\n",
            "\n",
            "So, the currency and invoice_date are the only ones with issues. Wait, the invoice_date in the extracted data is 08/06/24, but the OCR text has \"Invoice No. 915378 08/07/24\" which is the invoice date. Therefore, the extracted invoice_date is incorrect. The correct date should be 08/07/24, but the extracted data has 08/06/24. So that's a FAIL. \n",
            "\n",
            "The currency is not present in the OCR text, so it's a FAIL. \n",
            "\n",
            "Wait, the user's extracted data includes \"currency\": \"USD\". The OCR text doesn't mention USD, but the amounts are in USD. However, the instruction says to check against the document. Since the document doesn't specify the currency, the extracted value is not present, so it's a FAIL. \n",
            "\n",
            "Therefore, the status for currency is FAIL. \n",
            "\n",
            "So the JSON response would have:\n",
            "\n",
            "currency: {\"status\": \"FAIL\", \"feedback\": \"Currency not found in OCR text\"}\n",
            "\n",
            "invoice_date: {\"status\": \"FAIL\", \"feedback\": \"Incorrect date format or value not found in OCR text\"}\n",
            "\n",
            "All other fields are PASS.\n",
            "\n"
          ]
        }
      ],
      "source": [
        "print(reasoning)"
      ]
    },
    {
      "cell_type": "code",
      "execution_count": null,
      "metadata": {
        "id": "7AmUsNDOKIqu",
        "outputId": "16908b0c-b6a7-466c-e110-33143b048e33"
      },
      "outputs": [
        {
          "name": "stdout",
          "output_type": "stream",
          "text": [
            "Currency is USD. The OCR text doesn't explicitly state the currency, \n",
            "but since it's an invoice in the US and the amounts are in dollars, USD is likely correct. \n",
            "However, the OCR text doesn't mention USD, so maybe this is a FAIL? Wait, the total amounts are in USD, but the currency field might be inferred. \n",
            "However, the instruction says to check against the document. Since the OCR text doesn't have the currency specified, maybe this is a FAIL. \n",
            "Wait, the user might have assumed USD based on the context, but the extracted data has USD. The OCR text doesn't have the currency explicitly, so maybe this is a FAIL. Hmm, need to check again. The OCR text has amounts like 742.37, which are in USD, but the currency isn't stated. So the extracted value is USD, but the document doesn't have it. So this would be a FAIL? Or is it acceptable to assume USD? The instruction says to check against the document. If the document doesn't have the currency, then the extracted value might be incorrect. But since the user provided the OCR text and the extracted data includes USD, which is the standard for the US, maybe it's a PASS. However, the OCR text doesn't explicitly state the currency. This is a bit ambiguous. I'll have to check other fields for similar issues.\n",
            "\n",
            "Invoice_date is 08/06/24. \n",
            "The OCR text mentions \"Invoice Date 08/07/24\" but the invoice date might be the date of the invoice, \n",
            "which could be the same as the payment due date. Wait, the OCR text has \"Invoice No. 915378 08/07/24\" which is the invoice date. \n",
            "The extracted data has 08/06/24 as the invoice date. Wait, the extracted data's invoice_date is 08/06/24, but the OCR text shows the invoice date as 08/07/24. \n",
            "So this is a discrepancy. Therefore, this is a FAIL. The invoice_date in the extracted data is incorrect.\n"
          ]
        }
      ],
      "source": [
        "print(\"\"\"Currency is USD. The OCR text doesn't explicitly state the currency,\n",
        "but since it's an invoice in the US and the amounts are in dollars, USD is likely correct.\n",
        "However, the OCR text doesn't mention USD, so maybe this is a FAIL? Wait, the total amounts are in USD, but the currency field might be inferred.\n",
        "However, the instruction says to check against the document. Since the OCR text doesn't have the currency specified, maybe this is a FAIL.\n",
        "Wait, the user might have assumed USD based on the context, but the extracted data has USD. The OCR text doesn't have the currency explicitly, so maybe this is a FAIL. Hmm, need to check again. The OCR text has amounts like 742.37, which are in USD, but the currency isn't stated. So the extracted value is USD, but the document doesn't have it. So this would be a FAIL? Or is it acceptable to assume USD? The instruction says to check against the document. If the document doesn't have the currency, then the extracted value might be incorrect. But since the user provided the OCR text and the extracted data includes USD, which is the standard for the US, maybe it's a PASS. However, the OCR text doesn't explicitly state the currency. This is a bit ambiguous. I'll have to check other fields for similar issues.\n",
        "\n",
        "Invoice_date is 08/06/24.\n",
        "The OCR text mentions \"Invoice Date 08/07/24\" but the invoice date might be the date of the invoice,\n",
        "which could be the same as the payment due date. Wait, the OCR text has \"Invoice No. 915378 08/07/24\" which is the invoice date.\n",
        "The extracted data has 08/06/24 as the invoice date. Wait, the extracted data's invoice_date is 08/06/24, but the OCR text shows the invoice date as 08/07/24.\n",
        "So this is a discrepancy. Therefore, this is a FAIL. The invoice_date in the extracted data is incorrect.\"\"\")"
      ]
    },
    {
      "cell_type": "code",
      "execution_count": null,
      "metadata": {
        "id": "Qk9PMvmqKIqu"
      },
      "outputs": [],
      "source": []
    },
    {
      "cell_type": "code",
      "execution_count": null,
      "metadata": {
        "id": "uBxXO6wkQnJF"
      },
      "outputs": [],
      "source": []
    },
    {
      "cell_type": "code",
      "execution_count": null,
      "metadata": {
        "id": "D0XfEE_8QnB7"
      },
      "outputs": [],
      "source": []
    },
    {
      "cell_type": "markdown",
      "metadata": {
        "id": "x8R54ZfyQnk0"
      },
      "source": [
        "### Future: Visual Reasoning"
      ]
    },
    {
      "cell_type": "code",
      "execution_count": null,
      "metadata": {
        "id": "Qz5-RHZcQsJR"
      },
      "outputs": [],
      "source": []
    },
    {
      "cell_type": "markdown",
      "metadata": {},
      "source": [
        "## AGENT in Action"
      ]
    },
    {
      "cell_type": "code",
      "execution_count": 3,
      "metadata": {},
      "outputs": [],
      "source": [
        "from qwen_agent.utils.output_beautify import typewriter_print\n",
        "from document_ai_agent import Assistant, LLM_CONFIG, SYSTEM_INSTRUCTION\n",
        "import base64\n",
        "import os\n"
      ]
    },
    {
      "cell_type": "code",
      "execution_count": 4,
      "metadata": {},
      "outputs": [],
      "source": [
        "bot = Assistant(\n",
        "    llm=LLM_CONFIG,\n",
        "    system_message=SYSTEM_INSTRUCTION,\n",
        "    function_list=['extractor_ai', 'reviewer_ai']\n",
        ")"
      ]
    },
    {
      "cell_type": "code",
      "execution_count": null,
      "metadata": {},
      "outputs": [],
      "source": [
        "#Inputs: Image, OCR text, fields to extract\n",
        "messages = []\n",
        "ocr_text_input = extracted_text\n",
        "fields_str_input = str(extracted_fields)\n",
        "\n",
        "if not os.path.exists(image_path):\n",
        "    print(f\"Error: Image file not found at {image_path}\")\n",
        "    raise Exception(f\"Image file not found at {image_path}\")\n",
        "\n",
        "try:\n",
        "    with open(image_path, \"rb\") as f:\n",
        "        image_bytes = f.read()\n",
        "    image_bytes_b64 = base64.b64encode(image_bytes).decode('utf-8')\n",
        "    \n",
        "except Exception as e:\n",
        "    print(f\"Error reading or encoding image file: {e}\")\n",
        "    raise e\n",
        "\n",
        "try:\n",
        "    temp_dir = \"_temp_doc_ai_files\"\n",
        "    temp_image_filename = \"_temp_doc_ai_files/_image_data.b64\"\n",
        "    with open(temp_image_filename, \"w\") as f_img_temp:\n",
        "        f_img_temp.write(image_bytes_b64)\n",
        "    temp_ocr_filename = \"_temp_doc_ai_files/_ocr_text.txt\"\n",
        "    with open(temp_ocr_filename, \"w\") as f_ocr_temp:\n",
        "        f_ocr_temp.write(ocr_text_input)\n",
        "except Exception as e_write_temp:\n",
        "    print(f\"Error writing to temporary files: {e_write_temp}\")\n",
        "    raise e_write_temp"
      ]
    },
    {
      "cell_type": "code",
      "execution_count": 16,
      "metadata": {},
      "outputs": [
        {
          "name": "stdout",
          "output_type": "stream",
          "text": [
            "\n",
            "Bot response:\n",
            "[THINK]\n",
            "\n",
            "Okay, let's see"
          ]
        },
        {
          "name": "stdout",
          "output_type": "stream",
          "text": [
            ". The user wants me to process a document. They provided the image data file as '_image_data.b64' and the OCR text as '_ocr_text.txt', both in the '_temp_doc_ai_files' directory. The fields they need extracted are a list of various addresses, names, VAT numbers, etc.\n",
            "\n",
            "First, I need to determine if this is the extraction stage or review stage. Since there's no previous extracted JSON mentioned, it's the first turn, so extraction stage. \n",
            "\n",
            "I should call the extractor_ai tool. The parameters required are image_file_path, ocr_file_path, fields_to_extract, and llm_name. The user specified the paths as '_temp_doc_ai_files/_image_data.b64' and '_temp_doc_ai_files/_ocr_text.txt'. The fields are given as a JSON array string. The preferred LLM is 'qwen_25_vl' for vision capabilities.\n",
            "\n",
            "Wait, the fields_to_extract in the user's message is a JSON array string. Let me check the format. The user wrote: Fields to Extract (JSON array string): '['buyer_address', ...]'. But the actual string might have escaped quotes. I need to make sure the fields_to_extract parameter is correctly formatted as a JSON string array. The user's input seems to have the fields in a string that's already a JSON array, so I can pass it as-is. \n",
            "\n",
            "So, the function call would be to extractor_ai with those paths, the fields, and llm_name 'qwen_25_vl'. That should extract the necessary fields. Then, after extraction, the next step would be review, but the user hasn't provided any extracted data yet. So the first step is definitely the extractor_ai.\n",
            "\n",
            "\n",
            "\n",
            "\n",
            "[TOOL_CALL] extractor_ai\n",
            "{\"image_file_path\": \"_temp_doc_ai_files/_image_data.b64\", \"ocr_file_path\": \"_temp_doc_ai_files/_ocr_text.txt\", \"fields_to_extract\": \"[\\\"buyer_address\\\", \\\"buyer_name\\\", \\\"buyer_vat_number\\\", \\\"currency\\\", \\\"invoice_amount\\\", \\\"invoice_date\\\", \\\"invoice_number\\\", \\\"payment_due_date\\\", \\\"po_number\\\", \\\"seller_address\\\", \\\"seller_email\\\", \\\"seller_fax_number\\\", \\\"seller_name\\\", \\\"seller_phone\\\", \\\"seller_vat_number\\\", \\\"seller_website\\\", \\\"shipping_date\\\", \\\"shipto_address\\\", \\\"shipto_name\\\", \\\"subtotal\\\", \\\"total_due_amount\\\", \\\"total_tax\\\"]\", \"llm_name\": \"qwen_25_vl\"}--- ExtractorAI called with LLM: qwen_25_vl ---\n",
            "Reading image data from: _temp_doc_ai_files/_image_data.b64\n",
            "Reading OCR text from: _temp_doc_ai_files/_ocr_text.txt\n",
            "ExtractorAI - OCR Text (first 100 chars): WHOLESALE\n",
            "Main Street Wholesale Meats INVOICE\n",
            "Farmingdale Meat Market\n",
            "FARMINGDALE 210 Main Street\n",
            "MA\n",
            "ExtractorAI - Fields to extract: [\"buyer_address\", \"buyer_name\", \"buyer_vat_number\", \"currency\", \"invoice_amount\", \"invoice_date\", \"invoice_number\", \"payment_due_date\", \"po_number\", \"seller_address\", \"seller_email\", \"seller_fax_number\", \"seller_name\", \"seller_phone\", \"seller_vat_number\", \"seller_website\", \"shipping_date\", \"shipto_address\", \"shipto_name\", \"subtotal\", \"total_due_amount\", \"total_tax\"]\n",
            "ExtractorAI - Parsed fields to extract: ['buyer_address', 'buyer_name', 'buyer_vat_number', 'currency', 'invoice_amount', 'invoice_date', 'invoice_number', 'payment_due_date', 'po_number', 'seller_address', 'seller_email', 'seller_fax_number', 'seller_name', 'seller_phone', 'seller_vat_number', 'seller_website', 'shipping_date', 'shipto_address', 'shipto_name', 'subtotal', 'total_due_amount', 'total_tax']\n",
            "Using model: internal_vlm_v1\n",
            "ExtractorAI - LLM call successful, Raw LLM Response (first 100 chars): ```json\n",
            "{\n",
            "  \"buyer_address\": \"9 WEST 57TH STREET\\nSUITE 4500\",\n",
            "  \"buyer_name\": \"THE CHEQUIT\",\n",
            "  \"buy...\n",
            "ExtractorAI - Parsed Extraction Result: {'buyer_address': '9 WEST 57TH STREET\\nSUITE 4500', 'buyer_name': 'THE CHEQUIT', 'buyer_vat_number': '', 'currency': 'USD', 'invoice_amount': '749.37', 'invoice_date': '08/07/24', 'invoice_number': '915378', 'payment_due_date': '', 'po_number': '1', 'seller_address': '210 Main Street\\nFarmingdale , NY 11735', 'seller_email': '', 'seller_fax_number': '', 'seller_name': 'Main Street Wholesale Meats', 'seller_phone': '(516) 249-8200', 'seller_vat_number': '', 'seller_website': '', 'shipping_date': '', 'shipto_address': '23 GRAND AVENUE\\nSHELTER ISLAND HGTS , NY 11965', 'shipto_name': 'THE CHEQUIT', 'subtotal': '742.37', 'total_due_amount': '749.37', 'total_tax': '7.00'}\n",
            "\n",
            "[TOOL_RESPONSE] extractor_ai\n",
            "{buyer_address: \"9 WEST 57TH STREET\\nSUITE 4500\", buyer_name: \"THE CHEQUIT\", buyer_vat_number: \"\", currency: \"USD\", invoice_amount: \"749.37\", invoice_date: \"08/07/24\", invoice_number: \"915378\", payment_due_date: \"\", po_number: \"1\", seller_address: \"210 Main Street\\nFarmingdale , NY 11735\", seller_email: \"\", seller_fax_number: \"\", seller_name: \"Main Street Wholesale Meats\", seller_phone: \"(516) 249-8200\", seller_vat_number: \"\", seller_website: \"\", shipping_date: \"\", shipto_address: \"23 GRAND AVENUE\\nSHELTER ISLAND HGTS , NY 11965\", shipto_name: \"THE CHEQUIT\", subtotal: \"742.37\", total_due_amount: \"749.37\", total_tax: \"7.00\"}\n",
            "[THINK]\n",
            "\n",
            "Okay, let me start by understanding what the user needs. They provided an image and OCR text file paths, along with a list of fields to extract from a document. The first step was to call the extractor_ai tool with the given parameters. The response from the tool gave me the extracted data. Now, since there's extracted JSON output, this is the review stage.\n",
            "\n",
            "Next, I need to use the reviewer_ai tool to check the extracted data against the original documents. The parameters required are the image file path, OCR text path, the extracted JSON string, and the LLM name. The user mentioned using \"qwen_25_vl\" for extraction, but the reviewer_ai options are \"qwen_25_vl\" or \"qwen_3\". I should use \"qwen_25_vl\" again for consistency, as it's better for vision tasks.\n",
            "\n",
            "I need to make sure all the fields listed are reviewed. The extracted data has some empty fields like buyer_vat_number and seller_vat_number. The reviewer_ai will check if these are correctly identified as empty or if they should have values. Also, dates and numbers should be verified for accuracy. For example, the invoice_amount and total_due_amount are both \"749.37\", which seems correct, but the reviewer should confirm. Similarly, the subtotal is \"742.37\" and total_tax is \"7.00\", which adds up correctly. \n",
            "\n",
            "I should also check if the addresses and names are correctly captured. The shipto_address and buyer_address might have formatting issues, like the newline characters. The reviewer_ai will assess if these are properly handled. Additionally, the payment_due_date and shipping_date are empty; the reviewer needs to determine if that's accurate based on the document.\n",
            "\n",
            "Once the reviewer_ai provides the status for each field, I'll compile the final output. If all fields are confirmed correct, the status is PASS. If any discrepancies are found, they'll be marked as FAIL. The final JSON should list each field with its value and status. I need to ensure the structure is correct and only the required fields are included.\n",
            "\n",
            "\n",
            "\n",
            "\n",
            "[TOOL_CALL] reviewer_ai\n",
            "{\"image_file_path\": \"_temp_doc_ai_files/_image_data.b64\", \"ocr_file_path\": \"_temp_doc_ai_files/_ocr_text.txt\", \"extracted_json_str\": \"{\\\"buyer_address\\\": \\\"9 WEST 57TH STREET\\\\nSUITE 4500\\\", \\\"buyer_name\\\": \\\"THE CHEQUIT\\\", \\\"buyer_vat_number\\\": \\\"\\\", \\\"currency\\\": \\\"USD\\\", \\\"invoice_amount\\\": \\\"749.37\\\", \\\"invoice_date\\\": \\\"08/07/24\\\", \\\"invoice_number\\\": \\\"915378\\\", \\\"payment_due_date\\\": \\\"\\\", \\\"po_number\\\": \\\"1\\\", \\\"seller_address\\\": \\\"210 Main Street\\\\nFarmingdale , NY 11735\\\", \\\"seller_email\\\": \\\"\\\", \\\"seller_fax_number\\\": \\\"\\\", \\\"seller_name\\\": \\\"Main Street Wholesale Meats\\\", \\\"seller_phone\\\": \\\"(516) 249-8200\\\", \\\"seller_vat_number\\\": \\\"\\\", \\\"seller_website\\\": \\\"\\\", \\\"shipping_date\\\": \\\"\\\", \\\"shipto_address\\\": \\\"23 GRAND AVENUE\\\\nSHELTER ISLAND HGTS , NY 11965\\\", \\\"shipto_name\\\": \\\"THE CHEQUIT\\\", \\\"subtotal\\\": \\\"742.37\\\", \\\"total_due_amount\\\": \\\"749.37\\\", \\\"total_tax\\\": \\\"7.00\\\"}\", \"llm_name\": \"qwen_25_vl\"}--- ReviewerAI called with LLM: qwen_25_vl ---\n",
            "Reading image data from: _temp_doc_ai_files/_image_data.b64\n",
            "Reading OCR text from: _temp_doc_ai_files/_ocr_text.txt\n",
            "Reading extracted JSON from: {\"buyer_address\": \"9 WEST 57TH STREET\\nSUITE 4500\", \"buyer_name\": \"THE CHEQUIT\", \"buyer_vat_number\": \"\", \"currency\": \"USD\", \"invoice_amount\": \"749.37\", \"invoice_date\": \"08/07/24\", \"invoice_number\": \"915378\", \"payment_due_date\": \"\", \"po_number\": \"1\", \"seller_address\": \"210 Main Street\\nFarmingdale , NY 11735\", \"seller_email\": \"\", \"seller_fax_number\": \"\", \"seller_name\": \"Main Street Wholesale Meats\", \"seller_phone\": \"(516) 249-8200\", \"seller_vat_number\": \"\", \"seller_website\": \"\", \"shipping_date\": \"\", \"shipto_address\": \"23 GRAND AVENUE\\nSHELTER ISLAND HGTS , NY 11965\", \"shipto_name\": \"THE CHEQUIT\", \"subtotal\": \"742.37\", \"total_due_amount\": \"749.37\", \"total_tax\": \"7.00\"}\n",
            "ReviewerAI - Parsed extracted JSON for review: {'buyer_address': '9 WEST 57TH STREET\\nSUITE 4500', 'buyer_name': 'THE CHEQUIT', 'buyer_vat_number': '', 'currency': 'USD', 'invoice_amount': '749.37', 'invoice_date': '08/07/24', 'invoice_number': '915378', 'payment_due_date': '', 'po_number': '1', 'seller_address': '210 Main Street\\nFarmingdale , NY 11735', 'seller_email': '', 'seller_fax_number': '', 'seller_name': 'Main Street Wholesale Meats', 'seller_phone': '(516) 249-8200', 'seller_vat_number': '', 'seller_website': '', 'shipping_date': '', 'shipto_address': '23 GRAND AVENUE\\nSHELTER ISLAND HGTS , NY 11965', 'shipto_name': 'THE CHEQUIT', 'subtotal': '742.37', 'total_due_amount': '749.37', 'total_tax': '7.00'}\n",
            "Using model: internal_vlm_v1\n",
            "Parsing review response: {\n",
            "  \"buyer_address\": {\"status\": \"PASS\", \"feedback\": \"\"},\n",
            "  \"buyer_name\": {\"status\": \"PASS\", \"feedbac...\n",
            "ReviewerAI - LLM call successful, Raw LLM Response (first 100 chars): {\n",
            "  \"buyer_address\": {\"status\": \"PASS\", \"feedback\": \"\"},\n",
            "  \"buyer_name\": {\"status\": \"PASS\", \"feedbac...\n",
            "ReviewerAI - Parsed Review Result: {'buyer_address': {'status': 'PASS', 'feedback': ''}, 'buyer_name': {'status': 'PASS', 'feedback': ''}, 'buyer_vat_number': {'status': 'PASS', 'feedback': ''}, 'currency': {'status': 'PASS', 'feedback': ''}, 'invoice_amount': {'status': 'PASS', 'feedback': ''}, 'invoice_date': {'status': 'PASS', 'feedback': ''}, 'invoice_number': {'status': 'PASS', 'feedback': ''}, 'payment_due_date': {'status': 'PASS', 'feedback': ''}, 'po_number': {'status': 'PASS', 'feedback': ''}, 'seller_address': {'status': 'PASS', 'feedback': ''}, 'seller_email': {'status': 'PASS', 'feedback': ''}, 'seller_fax_number': {'status': 'PASS', 'feedback': ''}, 'seller_name': {'status': 'PASS', 'feedback': ''}, 'seller_phone': {'status': 'PASS', 'feedback': ''}, 'seller_vat_number': {'status': 'PASS', 'feedback': ''}, 'seller_website': {'status': 'PASS', 'feedback': ''}, 'shipping_date': {'status': 'PASS', 'feedback': ''}, 'shipto_address': {'status': 'PASS', 'feedback': ''}, 'shipto_name': {'status': 'PASS', 'feedback': ''}, 'subtotal': {'status': 'PASS', 'feedback': ''}, 'total_due_amount': {'status': 'PASS', 'feedback': ''}, 'total_tax': {'status': 'PASS', 'feedback': ''}}\n",
            "\n",
            "[TOOL_RESPONSE] reviewer_ai\n",
            "{buyer_address: {status: \"PASS\", feedback: \"\"}, buyer_name: {status: \"PASS\", feedback: \"\"}, buyer_vat_number: {status: \"PASS\", feedback: \"\"}, currency: {status: \"PASS\", feedback: \"\"}, invoice_amount: {status: \"PASS\", feedback: \"\"}, invoice_date: {status: \"PASS\", feedback: \"\"}, invoice_number: {status: \"PASS\", feedback: \"\"}, payment_due_date: {status: \"PASS\", feedback: \"\"}, po_number: {status: \"PASS\", feedback: \"\"}, seller_address: {status: \"PASS\", feedback: \"\"}, seller_email: {status: \"PASS\", feedback: \"\"}, seller_fax_number: {status: \"PASS\", feedback: \"\"}, seller_name: {status: \"PASS\", feedback: \"\"}, seller_phone: {status: \"PASS\", feedback: \"\"}, seller_vat_number: {status: \"PASS\", feedback: \"\"}, seller_website: {status: \"PASS\", feedback: \"\"}, shipping_date: {status: \"PASS\", feedback: \"\"}, shipto_address: {status: \"PASS\", feedback: \"\"}, shipto_name: {status: \"PASS\", feedback: \"\"}, subtotal: {status: \"PASS\", feedback: \"\"}, total_due_amount: {status: \"PASS\", feedback: \"\"}, total_tax: {status: \"PASS\", feedback: \"\"}}\n",
            "[THINK]\n",
            "\n",
            "Okay, let's see. The user provided the image and OCR files, and the fields they want extracted. First, I called the extractor_ai with the right parameters. The response had all the fields filled, but some were empty like buyer_vat_number. Then I used the reviewer_ai to check those extracted fields against the documents. The reviewer returned all PASS with no feedback. That means the extracted data matches the documents correctly. Even though some fields were empty in the OCR, the reviewer didn't flag them, so they must be correct as per the documents. Now, I need to compile the final output JSON with the extracted data and the review statuses. All fields are PASS, so the final output should reflect that.\n",
            "\n",
            "\n",
            "\n",
            "FINAL_OUTPUT_JSON: {\"buyer_address\": {\"value\": \"9 WEST 57TH STREET\\nSUITE 4500\", \"status\": \"PASS\"}, \"buyer_name\": {\"value\": \"THE CHEQUIT\", \"status\": \"PASS\"}, \"buyer_vat_number\": {\"value\": \"\", \"status\": \"PASS\"}, \"currency\": {\"value\": \"USD\", \"status\": \"PASS\"}, \"invoice_amount\": {\"value\": \"749.37\", \"status\": \"PASS\"}, \"invoice_date\": {\"value\": \"08/07/24\", \"status\": \"PASS\"}, \"invoice_number\": {\"value\": \"915378\", \"status\": \"PASS\"}, \"payment_due_date\": {\"value\": \"\", \"status\": \"PASS\"}, \"po_number\": {\"value\": \"1\", \"status\": \"PASS\"}, \"seller_address\": {\"value\": \"210 Main Street\\nFarmingdale , NY 11735\", \"status\": \"PASS\"}, \"seller_email\": {\"value\": \"\", \"status\": \"PASS\"}, \"seller_fax_number\": {\"value\": \"\", \"status\": \"PASS\"}, \"seller_name\": {\"value\": \"Main Street Wholesale Meats\", \"status\": \"PASS\"}, \"seller_phone\": {\"value\": \"(516) 249-8200\", \"status\": \"PASS\"}, \"seller_vat_number\": {\"value\": \"\", \"status\": \"PASS\"}, \"seller_website\": {\"value\": \"\", \"status\": \"PASS\"}, \"shipping_date\": {\"value\": \"\", \"status\": \"PASS\"}, \"shipto_address\": {\"value\": \"23 GRAND AVENUE\\nSHELTER ISLAND HGTS , NY 11965\", \"status\": \"PASS\"}, \"shipto_name\": {\"value\": \"THE CHEQUIT\", \"status\": \"PASS\"}, \"subtotal\": {\"value\": \"742.37\", \"status\": \"PASS\"}, \"total_due_amount\": {\"value\": \"749.37\", \"status\": \"PASS\"}, \"total_tax\": {\"value\": \"7.00\", \"status\": \"PASS\"}}\n",
            "--- End of Bot Response ---\n"
          ]
        }
      ],
      "source": [
        "query = (\n",
        "    f\"Please process the document. \"\n",
        "    f\"The image data is in the file named '{os.path.basename(temp_image_filename)}' and \"\n",
        "    f\"the OCR text is in the file named '{os.path.basename(temp_ocr_filename)}'. \"\n",
        "    f\"These files are located in the '{temp_dir}' directory relative to my current location. \" # Giving relative path context\n",
        "    f\"So, the path for the image file is '{temp_image_filename}' and for the OCR text is '{temp_ocr_filename}'. \"\n",
        "    f\"Fields to Extract (JSON array string): '{fields_str_input}'\"\n",
        ")\n",
        "\n",
        "\n",
        "messages.append({'role': 'user', 'content': query})\n",
        "run_messages = messages \n",
        "\n",
        "print(\"\\nBot response:\")\n",
        "response_plain_text = ''\n",
        "full_bot_response = []\n",
        "for response_chunk in bot.run(messages=messages):\n",
        "    # Streaming output\n",
        "    response_plain_text = typewriter_print(response_chunk, response_plain_text)\n",
        "    full_bot_response.extend(response_chunk)\n",
        "\n",
        "messages.extend(full_bot_response)\n",
        "print(\"\\n--- End of Bot Response ---\")\n"
      ]
    },
    {
      "cell_type": "code",
      "execution_count": 18,
      "metadata": {},
      "outputs": [
        {
          "data": {
            "text/plain": [
              "'\\n. The user wants me to process a document. They provided the image data file as \\'_image_data.b64\\' and the OCR text as \\'_ocr_text.txt\\', both in the \\'_temp_doc_ai_files\\' directory. The fields they need extracted are a list of various addresses, names, VAT numbers, etc.\\n\\nFirst, I need to determine if this is the extraction stage or review stage. Since there\\'s no previous extracted JSON mentioned, it\\'s the first turn, so extraction stage. \\n\\nI should call the extractor_ai tool. The parameters required are image_file_path, ocr_file_path, fields_to_extract, and llm_name. The user specified the paths as \\'_temp_doc_ai_files/_image_data.b64\\' and \\'_temp_doc_ai_files/_ocr_text.txt\\'. The fields are given as a JSON array string. The preferred LLM is \\'qwen_25_vl\\' for vision capabilities.\\n\\nWait, the fields_to_extract in the user\\'s message is a JSON array string. Let me check the format. The user wrote: Fields to Extract (JSON array string): \\'[\\'buyer_address\\', ...]\\'. But the actual string might have escaped quotes. I need to make sure the fields_to_extract parameter is correctly formatted as a JSON string array. The user\\'s input seems to have the fields in a string that\\'s already a JSON array, so I can pass it as-is. \\n\\nSo, the function call would be to extractor_ai with those paths, the fields, and llm_name \\'qwen_25_vl\\'. That should extract the necessary fields. Then, after extraction, the next step would be review, but the user hasn\\'t provided any extracted data yet. So the first step is definitely the extractor_ai.\\n\\n\\n\\n\\n[TOOL_CALL] extractor_ai\\n{\"image_file_path\": \"_temp_doc_ai_files/_image_data.b64\", \"ocr_file_path\": \"_temp_doc_ai_files/_ocr_text.txt\", \"fields_to_extract\": \"[\"buyer_address\", \"buyer_name\", \"buyer_vat_number\", \"currency\", \"invoice_amount\", \"invoice_date\", \"invoice_number\", \"payment_due_date\", \"po_number\", \"seller_address\", \"seller_email\", \"seller_fax_number\", \"seller_name\", \"seller_phone\", \"seller_vat_number\", \"seller_website\", \"shipping_date\", \"shipto_address\", \"shipto_name\", \"subtotal\", \"total_due_amount\", \"total_tax\"]\", \"llm_name\": \"qwen_25_vl\"}--- ExtractorAI called with LLM: qwen_25_vl ---\\nReading image data from: _temp_doc_ai_files/_image_data.b64\\nReading OCR text from: _temp_doc_ai_files/_ocr_text.txt\\nExtractorAI - OCR Text (first 100 chars): WHOLESALE\\nMain Street Wholesale Meats INVOICE\\nFarmingdale Meat Market\\nFARMINGDALE 210 Main Street\\nMA\\nExtractorAI - Fields to extract: [\"buyer_address\", \"buyer_name\", \"buyer_vat_number\", \"currency\", \"invoice_amount\", \"invoice_date\", \"invoice_number\", \"payment_due_date\", \"po_number\", \"seller_address\", \"seller_email\", \"seller_fax_number\", \"seller_name\", \"seller_phone\", \"seller_vat_number\", \"seller_website\", \"shipping_date\", \"shipto_address\", \"shipto_name\", \"subtotal\", \"total_due_amount\", \"total_tax\"]\\nExtractorAI - Parsed fields to extract: [\\'buyer_address\\', \\'buyer_name\\', \\'buyer_vat_number\\', \\'currency\\', \\'invoice_amount\\', \\'invoice_date\\', \\'invoice_number\\', \\'payment_due_date\\', \\'po_number\\', \\'seller_address\\', \\'seller_email\\', \\'seller_fax_number\\', \\'seller_name\\', \\'seller_phone\\', \\'seller_vat_number\\', \\'seller_website\\', \\'shipping_date\\', \\'shipto_address\\', \\'shipto_name\\', \\'subtotal\\', \\'total_due_amount\\', \\'total_tax\\']\\nUsing model: internal_vlm_v1\\nExtractorAI - LLM call successful, Raw LLM Response (first 100 chars): ```json\\n{\\n  \"buyer_address\": \"9 WEST 57TH STREET\\nSUITE 4500\",\\n  \"buyer_name\": \"THE CHEQUIT\",\\n  \"buy...\\nExtractorAI - Parsed Extraction Result: {\\'buyer_address\\': \\'9 WEST 57TH STREET\\nSUITE 4500\\', \\'buyer_name\\': \\'THE CHEQUIT\\', \\'buyer_vat_number\\': \\'\\', \\'currency\\': \\'USD\\', \\'invoice_amount\\': \\'749.37\\', \\'invoice_date\\': \\'08/07/24\\', \\'invoice_number\\': \\'915378\\', \\'payment_due_date\\': \\'\\', \\'po_number\\': \\'1\\', \\'seller_address\\': \\'210 Main Street\\nFarmingdale , NY 11735\\', \\'seller_email\\': \\'\\', \\'seller_fax_number\\': \\'\\', \\'seller_name\\': \\'Main Street Wholesale Meats\\', \\'seller_phone\\': \\'(516) 249-8200\\', \\'seller_vat_number\\': \\'\\', \\'seller_website\\': \\'\\', \\'shipping_date\\': \\'\\', \\'shipto_address\\': \\'23 GRAND AVENUE\\nSHELTER ISLAND HGTS , NY 11965\\', \\'shipto_name\\': \\'THE CHEQUIT\\', \\'subtotal\\': \\'742.37\\', \\'total_due_amount\\': \\'749.37\\', \\'total_tax\\': \\'7.00\\'}\\n\\n[TOOL_RESPONSE] extractor_ai\\n{buyer_address: \"9 WEST 57TH STREET\\nSUITE 4500\", buyer_name: \"THE CHEQUIT\", buyer_vat_number: \"\", currency: \"USD\", invoice_amount: \"749.37\", invoice_date: \"08/07/24\", invoice_number: \"915378\", payment_due_date: \"\", po_number: \"1\", seller_address: \"210 Main Street\\nFarmingdale , NY 11735\", seller_email: \"\", seller_fax_number: \"\", seller_name: \"Main Street Wholesale Meats\", seller_phone: \"(516) 249-8200\", seller_vat_number: \"\", seller_website: \"\", shipping_date: \"\", shipto_address: \"23 GRAND AVENUE\\nSHELTER ISLAND HGTS , NY 11965\", shipto_name: \"THE CHEQUIT\", subtotal: \"742.37\", total_due_amount: \"749.37\", total_tax: \"7.00\"}\\n[THINK]\\n\\nOkay, let me start by understanding what the user needs. They provided an image and OCR text file paths, along with a list of fields to extract from a document. The first step was to call the extractor_ai tool with the given parameters. The response from the tool gave me the extracted data. Now, since there\\'s extracted JSON output, this is the review stage.\\n\\nNext, I need to use the reviewer_ai tool to check the extracted data against the original documents. The parameters required are the image file path, OCR text path, the extracted JSON string, and the LLM name. The user mentioned using \"qwen_25_vl\" for extraction, but the reviewer_ai options are \"qwen_25_vl\" or \"qwen_3\". I should use \"qwen_25_vl\" again for consistency, as it\\'s better for vision tasks.\\n\\nI need to make sure all the fields listed are reviewed. The extracted data has some empty fields like buyer_vat_number and seller_vat_number. The reviewer_ai will check if these are correctly identified as empty or if they should have values. Also, dates and numbers should be verified for accuracy. For example, the invoice_amount and total_due_amount are both \"749.37\", which seems correct, but the reviewer should confirm. Similarly, the subtotal is \"742.37\" and total_tax is \"7.00\", which adds up correctly. \\n\\nI should also check if the addresses and names are correctly captured. The shipto_address and buyer_address might have formatting issues, like the newline characters. The reviewer_ai will assess if these are properly handled. Additionally, the payment_due_date and shipping_date are empty; the reviewer needs to determine if that\\'s accurate based on the document.\\n\\nOnce the reviewer_ai provides the status for each field, I\\'ll compile the final output. If all fields are confirmed correct, the status is PASS. If any discrepancies are found, they\\'ll be marked as FAIL. The final JSON should list each field with its value and status. I need to ensure the structure is correct and only the required fields are included.\\n\\n\\n\\n\\n[TOOL_CALL] reviewer_ai\\n{\"image_file_path\": \"_temp_doc_ai_files/_image_data.b64\", \"ocr_file_path\": \"_temp_doc_ai_files/_ocr_text.txt\", \"extracted_json_str\": \"{\"buyer_address\": \"9 WEST 57TH STREET\\\\nSUITE 4500\", \"buyer_name\": \"THE CHEQUIT\", \"buyer_vat_number\": \"\", \"currency\": \"USD\", \"invoice_amount\": \"749.37\", \"invoice_date\": \"08/07/24\", \"invoice_number\": \"915378\", \"payment_due_date\": \"\", \"po_number\": \"1\", \"seller_address\": \"210 Main Street\\\\nFarmingdale , NY 11735\", \"seller_email\": \"\", \"seller_fax_number\": \"\", \"seller_name\": \"Main Street Wholesale Meats\", \"seller_phone\": \"(516) 249-8200\", \"seller_vat_number\": \"\", \"seller_website\": \"\", \"shipping_date\": \"\", \"shipto_address\": \"23 GRAND AVENUE\\\\nSHELTER ISLAND HGTS , NY 11965\", \"shipto_name\": \"THE CHEQUIT\", \"subtotal\": \"742.37\", \"total_due_amount\": \"749.37\", \"total_tax\": \"7.00\"}\", \"llm_name\": \"qwen_25_vl\"}--- ReviewerAI called with LLM: qwen_25_vl ---\\nReading image data from: _temp_doc_ai_files/_image_data.b64\\nReading OCR text from: _temp_doc_ai_files/_ocr_text.txt\\nReading extracted JSON from: {\"buyer_address\": \"9 WEST 57TH STREET\\nSUITE 4500\", \"buyer_name\": \"THE CHEQUIT\", \"buyer_vat_number\": \"\", \"currency\": \"USD\", \"invoice_amount\": \"749.37\", \"invoice_date\": \"08/07/24\", \"invoice_number\": \"915378\", \"payment_due_date\": \"\", \"po_number\": \"1\", \"seller_address\": \"210 Main Street\\nFarmingdale , NY 11735\", \"seller_email\": \"\", \"seller_fax_number\": \"\", \"seller_name\": \"Main Street Wholesale Meats\", \"seller_phone\": \"(516) 249-8200\", \"seller_vat_number\": \"\", \"seller_website\": \"\", \"shipping_date\": \"\", \"shipto_address\": \"23 GRAND AVENUE\\nSHELTER ISLAND HGTS , NY 11965\", \"shipto_name\": \"THE CHEQUIT\", \"subtotal\": \"742.37\", \"total_due_amount\": \"749.37\", \"total_tax\": \"7.00\"}\\nReviewerAI - Parsed extracted JSON for review: {\\'buyer_address\\': \\'9 WEST 57TH STREET\\nSUITE 4500\\', \\'buyer_name\\': \\'THE CHEQUIT\\', \\'buyer_vat_number\\': \\'\\', \\'currency\\': \\'USD\\', \\'invoice_amount\\': \\'749.37\\', \\'invoice_date\\': \\'08/07/24\\', \\'invoice_number\\': \\'915378\\', \\'payment_due_date\\': \\'\\', \\'po_number\\': \\'1\\', \\'seller_address\\': \\'210 Main Street\\nFarmingdale , NY 11735\\', \\'seller_email\\': \\'\\', \\'seller_fax_number\\': \\'\\', \\'seller_name\\': \\'Main Street Wholesale Meats\\', \\'seller_phone\\': \\'(516) 249-8200\\', \\'seller_vat_number\\': \\'\\', \\'seller_website\\': \\'\\', \\'shipping_date\\': \\'\\', \\'shipto_address\\': \\'23 GRAND AVENUE\\nSHELTER ISLAND HGTS , NY 11965\\', \\'shipto_name\\': \\'THE CHEQUIT\\', \\'subtotal\\': \\'742.37\\', \\'total_due_amount\\': \\'749.37\\', \\'total_tax\\': \\'7.00\\'}\\nUsing model: internal_vlm_v1\\nParsing review response: {\\n  \"buyer_address\": {\"status\": \"PASS\", \"feedback\": \"\"},\\n  \"buyer_name\": {\"status\": \"PASS\", \"feedbac...\\nReviewerAI - LLM call successful, Raw LLM Response (first 100 chars): {\\n  \"buyer_address\": {\"status\": \"PASS\", \"feedback\": \"\"},\\n  \"buyer_name\": {\"status\": \"PASS\", \"feedbac...\\nReviewerAI - Parsed Review Result: {\\'buyer_address\\': {\\'status\\': \\'PASS\\', \\'feedback\\': \\'\\'}, \\'buyer_name\\': {\\'status\\': \\'PASS\\', \\'feedback\\': \\'\\'}, \\'buyer_vat_number\\': {\\'status\\': \\'PASS\\', \\'feedback\\': \\'\\'}, \\'currency\\': {\\'status\\': \\'PASS\\', \\'feedback\\': \\'\\'}, \\'invoice_amount\\': {\\'status\\': \\'PASS\\', \\'feedback\\': \\'\\'}, \\'invoice_date\\': {\\'status\\': \\'PASS\\', \\'feedback\\': \\'\\'}, \\'invoice_number\\': {\\'status\\': \\'PASS\\', \\'feedback\\': \\'\\'}, \\'payment_due_date\\': {\\'status\\': \\'PASS\\', \\'feedback\\': \\'\\'}, \\'po_number\\': {\\'status\\': \\'PASS\\', \\'feedback\\': \\'\\'}, \\'seller_address\\': {\\'status\\': \\'PASS\\', \\'feedback\\': \\'\\'}, \\'seller_email\\': {\\'status\\': \\'PASS\\', \\'feedback\\': \\'\\'}, \\'seller_fax_number\\': {\\'status\\': \\'PASS\\', \\'feedback\\': \\'\\'}, \\'seller_name\\': {\\'status\\': \\'PASS\\', \\'feedback\\': \\'\\'}, \\'seller_phone\\': {\\'status\\': \\'PASS\\', \\'feedback\\': \\'\\'}, \\'seller_vat_number\\': {\\'status\\': \\'PASS\\', \\'feedback\\': \\'\\'}, \\'seller_website\\': {\\'status\\': \\'PASS\\', \\'feedback\\': \\'\\'}, \\'shipping_date\\': {\\'status\\': \\'PASS\\', \\'feedback\\': \\'\\'}, \\'shipto_address\\': {\\'status\\': \\'PASS\\', \\'feedback\\': \\'\\'}, \\'shipto_name\\': {\\'status\\': \\'PASS\\', \\'feedback\\': \\'\\'}, \\'subtotal\\': {\\'status\\': \\'PASS\\', \\'feedback\\': \\'\\'}, \\'total_due_amount\\': {\\'status\\': \\'PASS\\', \\'feedback\\': \\'\\'}, \\'total_tax\\': {\\'status\\': \\'PASS\\', \\'feedback\\': \\'\\'}}\\n\\n[TOOL_RESPONSE] reviewer_ai\\n{buyer_address: {status: \"PASS\", feedback: \"\"}, buyer_name: {status: \"PASS\", feedback: \"\"}, buyer_vat_number: {status: \"PASS\", feedback: \"\"}, currency: {status: \"PASS\", feedback: \"\"}, invoice_amount: {status: \"PASS\", feedback: \"\"}, invoice_date: {status: \"PASS\", feedback: \"\"}, invoice_number: {status: \"PASS\", feedback: \"\"}, payment_due_date: {status: \"PASS\", feedback: \"\"}, po_number: {status: \"PASS\", feedback: \"\"}, seller_address: {status: \"PASS\", feedback: \"\"}, seller_email: {status: \"PASS\", feedback: \"\"}, seller_fax_number: {status: \"PASS\", feedback: \"\"}, seller_name: {status: \"PASS\", feedback: \"\"}, seller_phone: {status: \"PASS\", feedback: \"\"}, seller_vat_number: {status: \"PASS\", feedback: \"\"}, seller_website: {status: \"PASS\", feedback: \"\"}, shipping_date: {status: \"PASS\", feedback: \"\"}, shipto_address: {status: \"PASS\", feedback: \"\"}, shipto_name: {status: \"PASS\", feedback: \"\"}, subtotal: {status: \"PASS\", feedback: \"\"}, total_due_amount: {status: \"PASS\", feedback: \"\"}, total_tax: {status: \"PASS\", feedback: \"\"}}\\n[THINK]\\n\\nOkay, let\\'s see. The user provided the image and OCR files, and the fields they want extracted. First, I called the extractor_ai with the right parameters. The response had all the fields filled, but some were empty like buyer_vat_number. Then I used the reviewer_ai to check those extracted fields against the documents. The reviewer returned all PASS with no feedback. That means the extracted data matches the documents correctly. Even though some fields were empty in the OCR, the reviewer didn\\'t flag them, so they must be correct as per the documents. Now, I need to compile the final output JSON with the extracted data and the review statuses. All fields are PASS, so the final output should reflect that.\\n\\n\\n\\nFINAL_OUTPUT_JSON: {\"buyer_address\": {\"value\": \"9 WEST 57TH STREET\\nSUITE 4500\", \"status\": \"PASS\"}, \"buyer_name\": {\"value\": \"THE CHEQUIT\", \"status\": \"PASS\"}, \"buyer_vat_number\": {\"value\": \"\", \"status\": \"PASS\"}, \"currency\": {\"value\": \"USD\", \"status\": \"PASS\"}, \"invoice_amount\": {\"value\": \"749.37\", \"status\": \"PASS\"}, \"invoice_date\": {\"value\": \"08/07/24\", \"status\": \"PASS\"}, \"invoice_number\": {\"value\": \"915378\", \"status\": \"PASS\"}, \"payment_due_date\": {\"value\": \"\", \"status\": \"PASS\"}, \"po_number\": {\"value\": \"1\", \"status\": \"PASS\"}, \"seller_address\": {\"value\": \"210 Main Street\\nFarmingdale , NY 11735\", \"status\": \"PASS\"}, \"seller_email\": {\"value\": \"\", \"status\": \"PASS\"}, \"seller_fax_number\": {\"value\": \"\", \"status\": \"PASS\"}, \"seller_name\": {\"value\": \"Main Street Wholesale Meats\", \"status\": \"PASS\"}, \"seller_phone\": {\"value\": \"(516) 249-8200\", \"status\": \"PASS\"}, \"seller_vat_number\": {\"value\": \"\", \"status\": \"PASS\"}, \"seller_website\": {\"value\": \"\", \"status\": \"PASS\"}, \"shipping_date\": {\"value\": \"\", \"status\": \"PASS\"}, \"shipto_address\": {\"value\": \"23 GRAND AVENUE\\nSHELTER ISLAND HGTS , NY 11965\", \"status\": \"PASS\"}, \"shipto_name\": {\"value\": \"THE CHEQUIT\", \"status\": \"PASS\"}, \"subtotal\": {\"value\": \"742.37\", \"status\": \"PASS\"}, \"total_due_amount\": {\"value\": \"749.37\", \"status\": \"PASS\"}, \"total_tax\": {\"value\": \"7.00\", \"status\": \"PASS\"}}\\n--- End of Bot Response ---\\n'"
            ]
          },
          "execution_count": 18,
          "metadata": {},
          "output_type": "execute_result"
        }
      ],
      "source": [
        "\"\"\"\n",
        "Bot response:\n",
        "[THINK]\n",
        "\n",
        "Okay, let's see\n",
        ". The user wants me to process a document. They provided the image data file as '_image_data.b64' and the OCR text as '_ocr_text.txt', both in the '_temp_doc_ai_files' directory. The fields they need extracted are a list of various addresses, names, VAT numbers, etc.\n",
        "\n",
        "First, I need to determine if this is the extraction stage or review stage. Since there's no previous extracted JSON mentioned, it's the first turn, so extraction stage. \n",
        "\n",
        "I should call the extractor_ai tool. The parameters required are image_file_path, ocr_file_path, fields_to_extract, and llm_name. The user specified the paths as '_temp_doc_ai_files/_image_data.b64' and '_temp_doc_ai_files/_ocr_text.txt'. The fields are given as a JSON array string. The preferred LLM is 'qwen_25_vl' for vision capabilities.\n",
        "\n",
        "Wait, the fields_to_extract in the user's message is a JSON array string. Let me check the format. The user wrote: Fields to Extract (JSON array string): '['buyer_address', ...]'. But the actual string might have escaped quotes. I need to make sure the fields_to_extract parameter is correctly formatted as a JSON string array. The user's input seems to have the fields in a string that's already a JSON array, so I can pass it as-is. \n",
        "\n",
        "So, the function call would be to extractor_ai with those paths, the fields, and llm_name 'qwen_25_vl'. That should extract the necessary fields. Then, after extraction, the next step would be review, but the user hasn't provided any extracted data yet. So the first step is definitely the extractor_ai.\n",
        "\n",
        "\n",
        "\n",
        "\n",
        "[TOOL_CALL] extractor_ai\n",
        "{\"image_file_path\": \"_temp_doc_ai_files/_image_data.b64\", \"ocr_file_path\": \"_temp_doc_ai_files/_ocr_text.txt\", \"fields_to_extract\": \"[\\\"buyer_address\\\", \\\"buyer_name\\\", \\\"buyer_vat_number\\\", \\\"currency\\\", \\\"invoice_amount\\\", \\\"invoice_date\\\", \\\"invoice_number\\\", \\\"payment_due_date\\\", \\\"po_number\\\", \\\"seller_address\\\", \\\"seller_email\\\", \\\"seller_fax_number\\\", \\\"seller_name\\\", \\\"seller_phone\\\", \\\"seller_vat_number\\\", \\\"seller_website\\\", \\\"shipping_date\\\", \\\"shipto_address\\\", \\\"shipto_name\\\", \\\"subtotal\\\", \\\"total_due_amount\\\", \\\"total_tax\\\"]\", \"llm_name\": \"qwen_25_vl\"}--- ExtractorAI called with LLM: qwen_25_vl ---\n",
        "Reading image data from: _temp_doc_ai_files/_image_data.b64\n",
        "Reading OCR text from: _temp_doc_ai_files/_ocr_text.txt\n",
        "ExtractorAI - OCR Text (first 100 chars): WHOLESALE\n",
        "Main Street Wholesale Meats INVOICE\n",
        "Farmingdale Meat Market\n",
        "FARMINGDALE 210 Main Street\n",
        "MA\n",
        "ExtractorAI - Fields to extract: [\"buyer_address\", \"buyer_name\", \"buyer_vat_number\", \"currency\", \"invoice_amount\", \"invoice_date\", \"invoice_number\", \"payment_due_date\", \"po_number\", \"seller_address\", \"seller_email\", \"seller_fax_number\", \"seller_name\", \"seller_phone\", \"seller_vat_number\", \"seller_website\", \"shipping_date\", \"shipto_address\", \"shipto_name\", \"subtotal\", \"total_due_amount\", \"total_tax\"]\n",
        "ExtractorAI - Parsed fields to extract: ['buyer_address', 'buyer_name', 'buyer_vat_number', 'currency', 'invoice_amount', 'invoice_date', 'invoice_number', 'payment_due_date', 'po_number', 'seller_address', 'seller_email', 'seller_fax_number', 'seller_name', 'seller_phone', 'seller_vat_number', 'seller_website', 'shipping_date', 'shipto_address', 'shipto_name', 'subtotal', 'total_due_amount', 'total_tax']\n",
        "Using model: internal_vlm_v1\n",
        "ExtractorAI - LLM call successful, Raw LLM Response (first 100 chars): ```json\n",
        "{\n",
        "  \"buyer_address\": \"9 WEST 57TH STREET\\nSUITE 4500\",\n",
        "  \"buyer_name\": \"THE CHEQUIT\",\n",
        "  \"buy...\n",
        "ExtractorAI - Parsed Extraction Result: {'buyer_address': '9 WEST 57TH STREET\\nSUITE 4500', 'buyer_name': 'THE CHEQUIT', 'buyer_vat_number': '', 'currency': 'USD', 'invoice_amount': '749.37', 'invoice_date': '08/07/24', 'invoice_number': '915378', 'payment_due_date': '', 'po_number': '1', 'seller_address': '210 Main Street\\nFarmingdale , NY 11735', 'seller_email': '', 'seller_fax_number': '', 'seller_name': 'Main Street Wholesale Meats', 'seller_phone': '(516) 249-8200', 'seller_vat_number': '', 'seller_website': '', 'shipping_date': '', 'shipto_address': '23 GRAND AVENUE\\nSHELTER ISLAND HGTS , NY 11965', 'shipto_name': 'THE CHEQUIT', 'subtotal': '742.37', 'total_due_amount': '749.37', 'total_tax': '7.00'}\n",
        "\n",
        "[TOOL_RESPONSE] extractor_ai\n",
        "{buyer_address: \"9 WEST 57TH STREET\\nSUITE 4500\", buyer_name: \"THE CHEQUIT\", buyer_vat_number: \"\", currency: \"USD\", invoice_amount: \"749.37\", invoice_date: \"08/07/24\", invoice_number: \"915378\", payment_due_date: \"\", po_number: \"1\", seller_address: \"210 Main Street\\nFarmingdale , NY 11735\", seller_email: \"\", seller_fax_number: \"\", seller_name: \"Main Street Wholesale Meats\", seller_phone: \"(516) 249-8200\", seller_vat_number: \"\", seller_website: \"\", shipping_date: \"\", shipto_address: \"23 GRAND AVENUE\\nSHELTER ISLAND HGTS , NY 11965\", shipto_name: \"THE CHEQUIT\", subtotal: \"742.37\", total_due_amount: \"749.37\", total_tax: \"7.00\"}\n",
        "[THINK]\n",
        "\n",
        "Okay, let me start by understanding what the user needs. They provided an image and OCR text file paths, along with a list of fields to extract from a document. The first step was to call the extractor_ai tool with the given parameters. The response from the tool gave me the extracted data. Now, since there's extracted JSON output, this is the review stage.\n",
        "\n",
        "Next, I need to use the reviewer_ai tool to check the extracted data against the original documents. The parameters required are the image file path, OCR text path, the extracted JSON string, and the LLM name. The user mentioned using \"qwen_25_vl\" for extraction, but the reviewer_ai options are \"qwen_25_vl\" or \"qwen_3\". I should use \"qwen_25_vl\" again for consistency, as it's better for vision tasks.\n",
        "\n",
        "I need to make sure all the fields listed are reviewed. The extracted data has some empty fields like buyer_vat_number and seller_vat_number. The reviewer_ai will check if these are correctly identified as empty or if they should have values. Also, dates and numbers should be verified for accuracy. For example, the invoice_amount and total_due_amount are both \"749.37\", which seems correct, but the reviewer should confirm. Similarly, the subtotal is \"742.37\" and total_tax is \"7.00\", which adds up correctly. \n",
        "\n",
        "I should also check if the addresses and names are correctly captured. The shipto_address and buyer_address might have formatting issues, like the newline characters. The reviewer_ai will assess if these are properly handled. Additionally, the payment_due_date and shipping_date are empty; the reviewer needs to determine if that's accurate based on the document.\n",
        "\n",
        "Once the reviewer_ai provides the status for each field, I'll compile the final output. If all fields are confirmed correct, the status is PASS. If any discrepancies are found, they'll be marked as FAIL. The final JSON should list each field with its value and status. I need to ensure the structure is correct and only the required fields are included.\n",
        "\n",
        "\n",
        "\n",
        "\n",
        "[TOOL_CALL] reviewer_ai\n",
        "{\"image_file_path\": \"_temp_doc_ai_files/_image_data.b64\", \"ocr_file_path\": \"_temp_doc_ai_files/_ocr_text.txt\", \"extracted_json_str\": \"{\\\"buyer_address\\\": \\\"9 WEST 57TH STREET\\\\nSUITE 4500\\\", \\\"buyer_name\\\": \\\"THE CHEQUIT\\\", \\\"buyer_vat_number\\\": \\\"\\\", \\\"currency\\\": \\\"USD\\\", \\\"invoice_amount\\\": \\\"749.37\\\", \\\"invoice_date\\\": \\\"08/07/24\\\", \\\"invoice_number\\\": \\\"915378\\\", \\\"payment_due_date\\\": \\\"\\\", \\\"po_number\\\": \\\"1\\\", \\\"seller_address\\\": \\\"210 Main Street\\\\nFarmingdale , NY 11735\\\", \\\"seller_email\\\": \\\"\\\", \\\"seller_fax_number\\\": \\\"\\\", \\\"seller_name\\\": \\\"Main Street Wholesale Meats\\\", \\\"seller_phone\\\": \\\"(516) 249-8200\\\", \\\"seller_vat_number\\\": \\\"\\\", \\\"seller_website\\\": \\\"\\\", \\\"shipping_date\\\": \\\"\\\", \\\"shipto_address\\\": \\\"23 GRAND AVENUE\\\\nSHELTER ISLAND HGTS , NY 11965\\\", \\\"shipto_name\\\": \\\"THE CHEQUIT\\\", \\\"subtotal\\\": \\\"742.37\\\", \\\"total_due_amount\\\": \\\"749.37\\\", \\\"total_tax\\\": \\\"7.00\\\"}\", \"llm_name\": \"qwen_25_vl\"}--- ReviewerAI called with LLM: qwen_25_vl ---\n",
        "Reading image data from: _temp_doc_ai_files/_image_data.b64\n",
        "Reading OCR text from: _temp_doc_ai_files/_ocr_text.txt\n",
        "Reading extracted JSON from: {\"buyer_address\": \"9 WEST 57TH STREET\\nSUITE 4500\", \"buyer_name\": \"THE CHEQUIT\", \"buyer_vat_number\": \"\", \"currency\": \"USD\", \"invoice_amount\": \"749.37\", \"invoice_date\": \"08/07/24\", \"invoice_number\": \"915378\", \"payment_due_date\": \"\", \"po_number\": \"1\", \"seller_address\": \"210 Main Street\\nFarmingdale , NY 11735\", \"seller_email\": \"\", \"seller_fax_number\": \"\", \"seller_name\": \"Main Street Wholesale Meats\", \"seller_phone\": \"(516) 249-8200\", \"seller_vat_number\": \"\", \"seller_website\": \"\", \"shipping_date\": \"\", \"shipto_address\": \"23 GRAND AVENUE\\nSHELTER ISLAND HGTS , NY 11965\", \"shipto_name\": \"THE CHEQUIT\", \"subtotal\": \"742.37\", \"total_due_amount\": \"749.37\", \"total_tax\": \"7.00\"}\n",
        "ReviewerAI - Parsed extracted JSON for review: {'buyer_address': '9 WEST 57TH STREET\\nSUITE 4500', 'buyer_name': 'THE CHEQUIT', 'buyer_vat_number': '', 'currency': 'USD', 'invoice_amount': '749.37', 'invoice_date': '08/07/24', 'invoice_number': '915378', 'payment_due_date': '', 'po_number': '1', 'seller_address': '210 Main Street\\nFarmingdale , NY 11735', 'seller_email': '', 'seller_fax_number': '', 'seller_name': 'Main Street Wholesale Meats', 'seller_phone': '(516) 249-8200', 'seller_vat_number': '', 'seller_website': '', 'shipping_date': '', 'shipto_address': '23 GRAND AVENUE\\nSHELTER ISLAND HGTS , NY 11965', 'shipto_name': 'THE CHEQUIT', 'subtotal': '742.37', 'total_due_amount': '749.37', 'total_tax': '7.00'}\n",
        "Using model: internal_vlm_v1\n",
        "Parsing review response: {\n",
        "  \"buyer_address\": {\"status\": \"PASS\", \"feedback\": \"\"},\n",
        "  \"buyer_name\": {\"status\": \"PASS\", \"feedbac...\n",
        "ReviewerAI - LLM call successful, Raw LLM Response (first 100 chars): {\n",
        "  \"buyer_address\": {\"status\": \"PASS\", \"feedback\": \"\"},\n",
        "  \"buyer_name\": {\"status\": \"PASS\", \"feedbac...\n",
        "ReviewerAI - Parsed Review Result: {'buyer_address': {'status': 'PASS', 'feedback': ''}, 'buyer_name': {'status': 'PASS', 'feedback': ''}, 'buyer_vat_number': {'status': 'PASS', 'feedback': ''}, 'currency': {'status': 'PASS', 'feedback': ''}, 'invoice_amount': {'status': 'PASS', 'feedback': ''}, 'invoice_date': {'status': 'PASS', 'feedback': ''}, 'invoice_number': {'status': 'PASS', 'feedback': ''}, 'payment_due_date': {'status': 'PASS', 'feedback': ''}, 'po_number': {'status': 'PASS', 'feedback': ''}, 'seller_address': {'status': 'PASS', 'feedback': ''}, 'seller_email': {'status': 'PASS', 'feedback': ''}, 'seller_fax_number': {'status': 'PASS', 'feedback': ''}, 'seller_name': {'status': 'PASS', 'feedback': ''}, 'seller_phone': {'status': 'PASS', 'feedback': ''}, 'seller_vat_number': {'status': 'PASS', 'feedback': ''}, 'seller_website': {'status': 'PASS', 'feedback': ''}, 'shipping_date': {'status': 'PASS', 'feedback': ''}, 'shipto_address': {'status': 'PASS', 'feedback': ''}, 'shipto_name': {'status': 'PASS', 'feedback': ''}, 'subtotal': {'status': 'PASS', 'feedback': ''}, 'total_due_amount': {'status': 'PASS', 'feedback': ''}, 'total_tax': {'status': 'PASS', 'feedback': ''}}\n",
        "\n",
        "[TOOL_RESPONSE] reviewer_ai\n",
        "{buyer_address: {status: \"PASS\", feedback: \"\"}, buyer_name: {status: \"PASS\", feedback: \"\"}, buyer_vat_number: {status: \"PASS\", feedback: \"\"}, currency: {status: \"PASS\", feedback: \"\"}, invoice_amount: {status: \"PASS\", feedback: \"\"}, invoice_date: {status: \"PASS\", feedback: \"\"}, invoice_number: {status: \"PASS\", feedback: \"\"}, payment_due_date: {status: \"PASS\", feedback: \"\"}, po_number: {status: \"PASS\", feedback: \"\"}, seller_address: {status: \"PASS\", feedback: \"\"}, seller_email: {status: \"PASS\", feedback: \"\"}, seller_fax_number: {status: \"PASS\", feedback: \"\"}, seller_name: {status: \"PASS\", feedback: \"\"}, seller_phone: {status: \"PASS\", feedback: \"\"}, seller_vat_number: {status: \"PASS\", feedback: \"\"}, seller_website: {status: \"PASS\", feedback: \"\"}, shipping_date: {status: \"PASS\", feedback: \"\"}, shipto_address: {status: \"PASS\", feedback: \"\"}, shipto_name: {status: \"PASS\", feedback: \"\"}, subtotal: {status: \"PASS\", feedback: \"\"}, total_due_amount: {status: \"PASS\", feedback: \"\"}, total_tax: {status: \"PASS\", feedback: \"\"}}\n",
        "[THINK]\n",
        "\n",
        "Okay, let's see. The user provided the image and OCR files, and the fields they want extracted. First, I called the extractor_ai with the right parameters. The response had all the fields filled, but some were empty like buyer_vat_number. Then I used the reviewer_ai to check those extracted fields against the documents. The reviewer returned all PASS with no feedback. That means the extracted data matches the documents correctly. Even though some fields were empty in the OCR, the reviewer didn't flag them, so they must be correct as per the documents. Now, I need to compile the final output JSON with the extracted data and the review statuses. All fields are PASS, so the final output should reflect that.\n",
        "\n",
        "\n",
        "\n",
        "FINAL_OUTPUT_JSON: {\"buyer_address\": {\"value\": \"9 WEST 57TH STREET\\nSUITE 4500\", \"status\": \"PASS\"}, \"buyer_name\": {\"value\": \"THE CHEQUIT\", \"status\": \"PASS\"}, \"buyer_vat_number\": {\"value\": \"\", \"status\": \"PASS\"}, \"currency\": {\"value\": \"USD\", \"status\": \"PASS\"}, \"invoice_amount\": {\"value\": \"749.37\", \"status\": \"PASS\"}, \"invoice_date\": {\"value\": \"08/07/24\", \"status\": \"PASS\"}, \"invoice_number\": {\"value\": \"915378\", \"status\": \"PASS\"}, \"payment_due_date\": {\"value\": \"\", \"status\": \"PASS\"}, \"po_number\": {\"value\": \"1\", \"status\": \"PASS\"}, \"seller_address\": {\"value\": \"210 Main Street\\nFarmingdale , NY 11735\", \"status\": \"PASS\"}, \"seller_email\": {\"value\": \"\", \"status\": \"PASS\"}, \"seller_fax_number\": {\"value\": \"\", \"status\": \"PASS\"}, \"seller_name\": {\"value\": \"Main Street Wholesale Meats\", \"status\": \"PASS\"}, \"seller_phone\": {\"value\": \"(516) 249-8200\", \"status\": \"PASS\"}, \"seller_vat_number\": {\"value\": \"\", \"status\": \"PASS\"}, \"seller_website\": {\"value\": \"\", \"status\": \"PASS\"}, \"shipping_date\": {\"value\": \"\", \"status\": \"PASS\"}, \"shipto_address\": {\"value\": \"23 GRAND AVENUE\\nSHELTER ISLAND HGTS , NY 11965\", \"status\": \"PASS\"}, \"shipto_name\": {\"value\": \"THE CHEQUIT\", \"status\": \"PASS\"}, \"subtotal\": {\"value\": \"742.37\", \"status\": \"PASS\"}, \"total_due_amount\": {\"value\": \"749.37\", \"status\": \"PASS\"}, \"total_tax\": {\"value\": \"7.00\", \"status\": \"PASS\"}}\n",
        "--- End of Bot Response ---\n",
        "\"\"\""
      ]
    },
    {
      "cell_type": "code",
      "execution_count": null,
      "metadata": {},
      "outputs": [],
      "source": []
    },
    {
      "cell_type": "code",
      "execution_count": null,
      "metadata": {},
      "outputs": [],
      "source": []
    }
  ],
  "metadata": {
    "colab": {
      "provenance": []
    },
    "kernelspec": {
      "display_name": "docai_1",
      "language": "python",
      "name": "python3"
    },
    "language_info": {
      "codemirror_mode": {
        "name": "ipython",
        "version": 3
      },
      "file_extension": ".py",
      "mimetype": "text/x-python",
      "name": "python",
      "nbconvert_exporter": "python",
      "pygments_lexer": "ipython3",
      "version": "3.10.16"
    }
  },
  "nbformat": 4,
  "nbformat_minor": 0
}
